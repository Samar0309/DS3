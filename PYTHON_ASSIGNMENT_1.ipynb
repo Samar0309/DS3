{
 "cells": [
  {
   "cell_type": "markdown",
   "id": "470396b5-6bf8-41be-88ef-2f6ac80c42de",
   "metadata": {},
   "source": [
    "# Assignment-1: Python basic codes"
   ]
  },
  {
   "cell_type": "code",
   "execution_count": 8,
   "id": "4475ef39-d013-4053-aa1c-0bd7246b1c78",
   "metadata": {},
   "outputs": [
    {
     "name": "stdin",
     "output_type": "stream",
     "text": [
      "Enter a number:  5\n"
     ]
    },
    {
     "name": "stdout",
     "output_type": "stream",
     "text": [
      "The square of 5 is 25.\n"
     ]
    }
   ],
   "source": [
    "# 1. Ask the user to enter a number. Print out the square of the number\n",
    "\n",
    "A = eval(input(\"Enter a number: \"))\n",
    "print(f\"The square of {A} is {A*A}.\")"
   ]
  },
  {
   "cell_type": "code",
   "execution_count": 12,
   "id": "b2050430-67fe-4b63-83a0-3dd69acd08b4",
   "metadata": {},
   "outputs": [
    {
     "name": "stdin",
     "output_type": "stream",
     "text": [
      "Enter a number:  7\n"
     ]
    },
    {
     "name": "stdout",
     "output_type": "stream",
     "text": [
      "7---14---21---28---35\n"
     ]
    }
   ],
   "source": [
    "# 2. Ask the user to enter a number x. print out x, 2x, 3x, 4x, and 5x, each separated by three dashes\n",
    "\n",
    "A = eval(input(\"Enter a number: \"))\n",
    "print(A, 2*A , 3*A, 4*A, 5*A, sep = '---')"
   ]
  },
  {
   "cell_type": "code",
   "execution_count": 14,
   "id": "2d8813d8-5219-481e-b672-9dc6c51ec58e",
   "metadata": {},
   "outputs": [
    {
     "name": "stdin",
     "output_type": "stream",
     "text": [
      "Enter Weight in kgs (Kilograms):  10\n"
     ]
    },
    {
     "name": "stdout",
     "output_type": "stream",
     "text": [
      "Weight entererd 10 in kilograms is equal to 22.0 in pounds\n"
     ]
    }
   ],
   "source": [
    "# 3. Write a program that asks the user for a weight in kilograms and converts it to pounds. There are 2.2 pounds in a kilogram.\n",
    "\n",
    "A = eval(input(\"Enter Weight in kgs (Kilograms): \"))\n",
    "B = A*2.2\n",
    "print(f\"Weight entererd {A} in kilograms is equal to {B} in pounds\")\n"
   ]
  },
  {
   "cell_type": "code",
   "execution_count": 15,
   "id": "b64ea760-6938-4837-bd70-806f59c2a781",
   "metadata": {},
   "outputs": [
    {
     "name": "stdin",
     "output_type": "stream",
     "text": [
      "Enter Number 1:  10\n",
      "Enter Number 2:  20\n",
      "Enter Number 3:  30\n"
     ]
    },
    {
     "name": "stdout",
     "output_type": "stream",
     "text": [
      "Total of three Nos provided is 60\n",
      "Average of three Nos provided is 20.0\n"
     ]
    }
   ],
   "source": [
    "# 4. Write a program that asks the user to enter three numbers (use three separate input statements).Create variables called total and average \n",
    "# that hold the sum and average of the three numbers and print out the values of total and average.\n",
    "\n",
    "A = eval(input(\"Enter Number 1: \"))\n",
    "B = eval(input(\"Enter Number 2: \"))\n",
    "C = eval(input(\"Enter Number 3: \"))\n",
    "\n",
    "total = (A+B+C)\n",
    "avg =  (A+B+C)/3\n",
    "\n",
    "print(f\"Total of three Nos provided is {total}\")\n",
    "print(f\"Average of three Nos provided is {avg}\")"
   ]
  },
  {
   "cell_type": "code",
   "execution_count": 22,
   "id": "8196291b-cdfa-4475-8fe8-0837b3e265c7",
   "metadata": {},
   "outputs": [
    {
     "name": "stdin",
     "output_type": "stream",
     "text": [
      "enter the bill amt in Rs 1000\n",
      "enter the tip in percent 10\n"
     ]
    },
    {
     "name": "stdout",
     "output_type": "stream",
     "text": [
      "the bill value of Rs 1000 with the tip 10% is Rs 1100.0  \n"
     ]
    }
   ],
   "source": [
    "# 5. A lot of cell phones have tip calculators. Write one. Ask the user forthe price of the meal and the percent tip they want to leave. Then\n",
    "# print both the tip amount and the total bill with the tip included.\n",
    "\n",
    "bill_value = eval(input(\"enter the bill amt in Rs\"))\n",
    "tip = eval(input(\"enter the tip in percent\"))# in %\n",
    "\n",
    "Final_Bill_Amt = ( bill_value + ((bill_value*tip)/100) )\n",
    "\n",
    "print(f\"the bill value of Rs {bill_value} with the tip {tip}% is Rs {Final_Bill_Amt}  \")"
   ]
  },
  {
   "cell_type": "code",
   "execution_count": 23,
   "id": "a4c1a538-c72c-4aa3-a1c2-0b9cb4d01e42",
   "metadata": {},
   "outputs": [
    {
     "name": "stdin",
     "output_type": "stream",
     "text": [
      "enter the number1 20\n",
      "enter the number2 399\n"
     ]
    },
    {
     "name": "stdout",
     "output_type": "stream",
     "text": [
      "The sum of 20 and 399  is  419\n",
      "The diff of 20 and 399  is  -379\n",
      "The mult of 20 and 399  is  7980\n",
      "The div of 20 and 399  is  0.05012531328320802\n"
     ]
    }
   ],
   "source": [
    "# 6. wap ask the user enter the 2 numbers find the subtraction,addition, multiplication and division\n",
    "\n",
    "num1 = eval(input(\"enter the number1\"))\n",
    "num2 = eval(input(\"enter the number2\"))\n",
    "\n",
    "sum = (num1 + num2 )\n",
    "diff = (num1 - num2 )\n",
    "mult = (num1 * num2 )\n",
    "div = (num1 / num2 )\n",
    "\n",
    "print(f\"The sum of {num1} and {num2}  is  {sum}\")\n",
    "print(f\"The diff of {num1} and {num2}  is  {diff}\")\n",
    "print(f\"The mult of {num1} and {num2}  is  {mult}\")\n",
    "print(f\"The div of {num1} and {num2}  is  {div}\")"
   ]
  },
  {
   "cell_type": "code",
   "execution_count": 28,
   "id": "895f1586-e2fc-48ff-827d-e804d17ea6bf",
   "metadata": {},
   "outputs": [
    {
     "name": "stdin",
     "output_type": "stream",
     "text": [
      "enter the radius 10\n",
      "enter the pie value 3.14\n"
     ]
    },
    {
     "name": "stdout",
     "output_type": "stream",
     "text": [
      "The rea of circle with Radius 10 and pie value 3.14 is 314.0\n"
     ]
    }
   ],
   "source": [
    "# 7. wap ask the user enter radius values and pi value find the area of the circle\n",
    "\n",
    "rad = eval(input(\"enter the radius\"))\n",
    "pie = eval(input(\"enter the pie value\"))\n",
    "\n",
    "area = (rad * rad * pie )\n",
    "\n",
    "print(f\"The rea of circle with Radius {rad} and pie value {pie} is {area}\")"
   ]
  },
  {
   "cell_type": "code",
   "execution_count": 26,
   "id": "6ac4d816-265f-4d95-9443-87ac4a3a5dbc",
   "metadata": {},
   "outputs": [
    {
     "name": "stdin",
     "output_type": "stream",
     "text": [
      "enter the value in dollars 100\n",
      "enter the coversion rate to INR 83\n"
     ]
    },
    {
     "name": "stdout",
     "output_type": "stream",
     "text": [
      "The amt in RS with $ amount equal to 100 with the conversion rate 83 is Rs 8300 \n"
     ]
    }
   ],
   "source": [
    "# 8. wap ask the user bill amount in dollars, ask the user enter how much indian rupees for one dollar print the bill amount in rupees\n",
    "\n",
    "amt = eval(input(\"enter the value in dollars\"))\n",
    "conv = eval(input(\"enter the coversion rate to INR\"))# in %\n",
    "\n",
    "final = ( amt * conv )\n",
    "\n",
    "print(f\"The amt in RS with $ amount equal to {amt} with the conversion rate {conv} is Rs {final} \")"
   ]
  },
  {
   "cell_type": "code",
   "execution_count": 29,
   "id": "bcc2df39-e7f6-4c88-8503-003e9a2b762f",
   "metadata": {},
   "outputs": [
    {
     "name": "stdin",
     "output_type": "stream",
     "text": [
      "enter the base of triangle 30\n",
      "enter the height of triangle 40\n"
     ]
    },
    {
     "name": "stdout",
     "output_type": "stream",
     "text": [
      "the are of triangle with base 30 and height 40 is 600.0 \n"
     ]
    }
   ],
   "source": [
    "# 9. wap ask the user enter base height calculate area of the triangle\n",
    "\n",
    "b = eval(input(\"enter the base of triangle\"))\n",
    "h = eval(input(\"enter the height of triangle\"))# in %\n",
    "\n",
    "final = ( b * h * (1/2 ))\n",
    "\n",
    "print(f\"the are of triangle with base {b} and height {h} is {final} \")"
   ]
  },
  {
   "cell_type": "code",
   "execution_count": 30,
   "id": "820067d5-b909-4df8-bac5-572710c593f7",
   "metadata": {},
   "outputs": [
    {
     "name": "stdin",
     "output_type": "stream",
     "text": [
      "enter the base of triangle 20\n",
      "enter the height of triangle 30\n"
     ]
    },
    {
     "name": "stdout",
     "output_type": "stream",
     "text": [
      "the are of rectangle with base 20 and height 30 is 600 \n"
     ]
    }
   ],
   "source": [
    "# 10. wap ask the user enter length and breadth calculate area of the rectangle\n",
    "\n",
    "b = eval(input(\"enter the base of triangle\"))\n",
    "h = eval(input(\"enter the height of triangle\"))# in %\n",
    "\n",
    "final = ( b * h )\n",
    "\n",
    "print(f\"the are of rectangle with base {b} and height {h} is {final} \")"
   ]
  },
  {
   "cell_type": "code",
   "execution_count": 2,
   "id": "c7290640-a368-4535-b685-fbb9b6d6e296",
   "metadata": {},
   "outputs": [
    {
     "name": "stdin",
     "output_type": "stream",
     "text": [
      "Father: Hey Baby!\n",
      "Daughter:  Hello Dady\n",
      "Father:  I heard your exams are over, what about result\n",
      "Daughter:  Yes dad! Results are out.\n",
      "Father:  what is the percentage?\n",
      "Daughter:  I will give my subject wise marks , you tell me the percentage Father : Okay! Daughter:\n",
      "Father :  Dad Now tell me how much percentage I got\n",
      "enter the Python Marks 100\n",
      "enter the SQL Marks 100\n",
      "enter the AI/ML Marks 100\n",
      "enter the Science Marks 100\n",
      "enter the Maths Marks 90\n"
     ]
    },
    {
     "name": "stdout",
     "output_type": "stream",
     "text": [
      "Daughter: Dad Now tell me how much percentage I got\n",
      "Father: Tell me the max marks of each subject\n"
     ]
    },
    {
     "name": "stdin",
     "output_type": "stream",
     "text": [
      "enter the Max Marks 100\n"
     ]
    },
    {
     "name": "stdout",
     "output_type": "stream",
     "text": [
      "Father: Your Percentage turns out to be 98.0%\n"
     ]
    }
   ],
   "source": [
    "# 11. Let’s create a story between Father and daughter , You need to create a story by using print and input keywords\n",
    "\n",
    "input(\"Father:\")\n",
    "input(\"Daughter: \")\n",
    "input(\"Father: \")\n",
    "input(\"Daughter: \")\n",
    "input(\"Father: \")\n",
    "input(\"Daughter: \")\n",
    "input(\"Father : \")\n",
    "\n",
    "S1 = eval(input(\"enter the Python Marks\"))\n",
    "S2 = eval(input(\"enter the SQL Marks\"))\n",
    "S3 = eval(input(\"enter the AI/ML Marks\"))\n",
    "S4 = eval(input(\"enter the Science Marks\"))\n",
    "S5 = eval(input(\"enter the Maths Marks\"))\n",
    "print(\"Daughter: Dad Now tell me how much percentage I got\")\n",
    "print(\"Father: Tell me the max marks of each subject\")\n",
    "max_marks = eval(input(\"enter the Max Marks\"))\n",
    "\n",
    "Percentage  = ((S1+S2+S3+S4+S5)/(5*max_marks)*100)\n",
    "print(f\"Father: Your Percentage turns out to be {Percentage}%\")\n"
   ]
  },
  {
   "cell_type": "code",
   "execution_count": null,
   "id": "7fa7a386-793e-4f6c-8722-21591e5a5e60",
   "metadata": {},
   "outputs": [],
   "source": []
  }
 ],
 "metadata": {
  "kernelspec": {
   "display_name": "Python 3 (ipykernel)",
   "language": "python",
   "name": "python3"
  },
  "language_info": {
   "codemirror_mode": {
    "name": "ipython",
    "version": 3
   },
   "file_extension": ".py",
   "mimetype": "text/x-python",
   "name": "python",
   "nbconvert_exporter": "python",
   "pygments_lexer": "ipython3",
   "version": "3.11.7"
  }
 },
 "nbformat": 4,
 "nbformat_minor": 5
}
