{
 "cells": [
  {
   "cell_type": "markdown",
   "id": "1d1aef5a-3744-45b8-92e3-6ee2d0279e73",
   "metadata": {},
   "source": [
    "# PYTHON_ASSIGNMENT_3"
   ]
  },
  {
   "cell_type": "code",
   "execution_count": 3,
   "id": "c1b0f337-dde0-4606-ae9b-a6712aa9d0b2",
   "metadata": {},
   "outputs": [
    {
     "name": "stdin",
     "output_type": "stream",
     "text": [
      "Enter the salary in Rs 100\n"
     ]
    },
    {
     "name": "stdout",
     "output_type": "stream",
     "text": [
      "Total Gross Salary of Ramesh is 160.0\n"
     ]
    }
   ],
   "source": [
    "# 1. Ramesh’s basic salary is input through the keyboard. His dearness allowance is 40% of basic salary, and\n",
    "#    house rent allowance is 20% of basic salary. Write a program to calculate his gross salary.\n",
    "\n",
    "Salary = eval(input('Enter the salary in Rs'))\n",
    "Total  = Salary + (0.4*Salary) + (0.4*Salary)\n",
    "print(f\"Total Gross Salary of Ramesh is {Total}\")"
   ]
  },
  {
   "cell_type": "code",
   "execution_count": 8,
   "id": "1ba8ce71-b9c4-4f7b-b43b-9bc7a0ed2e35",
   "metadata": {},
   "outputs": [
    {
     "name": "stdin",
     "output_type": "stream",
     "text": [
      "Enter the Distance in km 10\n"
     ]
    },
    {
     "name": "stdout",
     "output_type": "stream",
     "text": [
      "Total Distance in meters is 10000\n",
      "Total Distance in feet is 32808.399\n",
      "Total Distance in inches is 393700.787\n",
      "Total Distance in centimeters is 1000000\n"
     ]
    }
   ],
   "source": [
    "# 2.The distance between two cities (in km.) is input through the keyboard. Write a program to convert and\n",
    "#   print this distance in meters, feet, inches and centimeters.\n",
    "\n",
    "Dist = eval(input('Enter the Distance in km'))\n",
    "print(f\"Total Distance in meters is {Dist*1000}\")\n",
    "print(f\"Total Distance in feet is {Dist*3280.8399}\")\n",
    "print(f\"Total Distance in inches is {Dist*39370.0787}\")\n",
    "print(f\"Total Distance in centimeters is {Dist*100000}\")"
   ]
  },
  {
   "cell_type": "code",
   "execution_count": 15,
   "id": "cbb1efa4-e5d0-4705-87a1-6e090094adf2",
   "metadata": {},
   "outputs": [
    {
     "name": "stdin",
     "output_type": "stream",
     "text": [
      "Enter the Subject 1 Marks 78\n",
      "Enter the Subject 2 Marks 89\n",
      "Enter the Subject 3 Marks 69\n",
      "Enter the Subject 4 Marks 89\n",
      "Enter the Subject 5 Marks 94\n"
     ]
    },
    {
     "name": "stdout",
     "output_type": "stream",
     "text": [
      "Total Marks/aggregate marks obtained out of 500: 419\n",
      "Total % is 83.8\n"
     ]
    }
   ],
   "source": [
    "# 3. If the marks obtained by a student in five different subjects are input through the keyboard, find out the\n",
    "#    aggregate marks and percentage marks obtained by the student. Assume that the maximum marks that\n",
    "#    can be obtained by a student in each subject is 100.\n",
    "\n",
    "S1 = eval(input('Enter the Subject 1 Marks'))\n",
    "S2 = eval(input('Enter the Subject 2 Marks'))\n",
    "S3 = eval(input('Enter the Subject 3 Marks'))\n",
    "S4 = eval(input('Enter the Subject 4 Marks'))\n",
    "S5 = eval(input('Enter the Subject 5 Marks'))\n",
    "\n",
    "print(f\"Total Marks/aggregate marks obtained out of 500: {S1+S2+S3+S4+S5}\")\n",
    "print(f\"Total % is {round(((S1+S2+S3+S4+S5)/500)*100,2)}\")"
   ]
  },
  {
   "cell_type": "code",
   "execution_count": 20,
   "id": "b40a3513-e188-41e0-8787-91a3b68bd49d",
   "metadata": {},
   "outputs": [
    {
     "name": "stdin",
     "output_type": "stream",
     "text": [
      "Enter the Temperature in Fahrenheit 67\n"
     ]
    },
    {
     "name": "stdout",
     "output_type": "stream",
     "text": [
      "Temperature in Centigrade degrees: 19.44\n"
     ]
    }
   ],
   "source": [
    "# 4. Temperature of a city in Fahrenheit degrees is input through the keyboard. Write a program to convert this\n",
    "#    temperature into Centigrade degrees.\n",
    "\n",
    "F = eval(input('Enter the Temperature in Fahrenheit'))\n",
    "C = round(((F-32)*(5/9)),2)\n",
    "print(f\"Temperature in Centigrade degrees: {C}\")"
   ]
  },
  {
   "cell_type": "code",
   "execution_count": 30,
   "id": "7404664a-f6de-4011-896d-a92b08c314d4",
   "metadata": {},
   "outputs": [
    {
     "name": "stdin",
     "output_type": "stream",
     "text": [
      "Enter the Length 34\n",
      "Enter the Breadth 45\n"
     ]
    },
    {
     "name": "stdout",
     "output_type": "stream",
     "text": [
      "Area of Rectangle is: 1530\n",
      "Perimeter of Rectangle is: 158\n"
     ]
    },
    {
     "name": "stdin",
     "output_type": "stream",
     "text": [
      "Enter the Radius 23\n"
     ]
    },
    {
     "name": "stdout",
     "output_type": "stream",
     "text": [
      "Area of Circle is: 1661.06\n",
      "Perimeter of Circle is: 144.44\n"
     ]
    }
   ],
   "source": [
    "# 5. The length & breadth of a rectangle and radius of a circle are input through the keyboard. Write a program\n",
    "#    to calculate the area & perimeter of the rectangle, and the area & circumference of the circle.\n",
    "\n",
    "l = eval(input('Enter the Length'))\n",
    "b = eval(input('Enter the Breadth'))\n",
    "\n",
    "print(f\"Area of Rectangle is: {l*b}\")\n",
    "print(f\"Perimeter of Rectangle is: {(2*(l+b))}\")\n",
    "\n",
    "r = eval(input('Enter the Radius'))\n",
    "print(f\"Area of Circle is: {round((3.14*r*r),2)}\")\n",
    "print(f\"Perimeter of Circle is: {2*(3.14*r)}\")\n"
   ]
  },
  {
   "cell_type": "code",
   "execution_count": 33,
   "id": "8ecbaaad-fdbb-480a-a2a3-fde8a4cb6f0e",
   "metadata": {},
   "outputs": [
    {
     "name": "stdin",
     "output_type": "stream",
     "text": [
      "Enter the Value of C 34\n",
      "Enter the Value of D 78\n"
     ]
    },
    {
     "name": "stdout",
     "output_type": "stream",
     "text": [
      "value of C is 78\n",
      "value of D is 34\n"
     ]
    }
   ],
   "source": [
    "# 6. Two numbers are input through the keyboard into two locations C and D. Write a program to interchange\n",
    "#    the contents of C and D.\n",
    "\n",
    "C = eval(input('Enter the Value of C'))\n",
    "D = eval(input('Enter the Value of D'))\n",
    "# used temp variable \n",
    "E = D\n",
    "D = C\n",
    "C = E\n",
    "\n",
    "print(f\"value of C is {C}\")\n",
    "print(f\"value of D is {D}\")"
   ]
  },
  {
   "cell_type": "code",
   "execution_count": 5,
   "id": "c2fc41ce-867d-459b-a23f-911aaab31a5f",
   "metadata": {},
   "outputs": [
    {
     "name": "stdin",
     "output_type": "stream",
     "text": [
      "Enter the Number of 5 digit 12345\n"
     ]
    },
    {
     "name": "stdout",
     "output_type": "stream",
     "text": [
      "54321\n"
     ]
    },
    {
     "data": {
      "text/plain": [
       "int"
      ]
     },
     "execution_count": 5,
     "metadata": {},
     "output_type": "execute_result"
    }
   ],
   "source": [
    "# 7. If a five-digit number is input through the keyboard, write a program to reverse the number.\n",
    "\n",
    "N = input('Enter the Number of 5 digit')\n",
    "A = N[::-1]\n",
    "B = int(A)\n",
    "print(B)\n",
    "type(B)\n",
    "# D1 = N[0]\n",
    "# D2 = N[1]\n",
    "# D3 = N[2]\n",
    "# D4 = N[3]\n",
    "# D5 = N[4]\n",
    "\n",
    "# print(f\"Reverse of {N} is : {D5}{D4}{D3}{D2}{D1}\")"
   ]
  },
  {
   "cell_type": "code",
   "execution_count": 67,
   "id": "2d474f9a-2a77-44ee-af34-d83fd3fe1320",
   "metadata": {},
   "outputs": [
    {
     "name": "stdin",
     "output_type": "stream",
     "text": [
      "Enter the Number of 4 digit 6789\n"
     ]
    },
    {
     "name": "stdout",
     "output_type": "stream",
     "text": [
      "The first digit of Number is 6\n",
      "The last digit of Number is 9\n",
      "The sum of First and Last digit of 6789 is 15\n"
     ]
    }
   ],
   "source": [
    "# 8. If a four-digit number is input through the keyboard, write a program to obtain the sum of the first and last\n",
    "#    digit of this number.\n",
    "N = input('Enter the Number of 4 digit')\n",
    "F = N[0]\n",
    "L = N[-1]\n",
    "print(f\"The first digit of Number is {F}\")\n",
    "print(f\"The last digit of Number is {L}\")\n",
    "\n",
    "Sum = int(F) + int(L)\n",
    "print(f\"The sum of First and Last digit of {N} is {Sum}\")"
   ]
  },
  {
   "cell_type": "code",
   "execution_count": 40,
   "id": "32669dbd-e05b-493e-984c-b8f05eb5c604",
   "metadata": {},
   "outputs": [
    {
     "name": "stdout",
     "output_type": "stream",
     "text": [
      "Total Men : 41600.0\n",
      "Total Women : 38400.0\n",
      "Total Literacy : 38400.0\n",
      "Total Men Literacy : 28000.0\n",
      "Total Women Literacy : 10400.0\n"
     ]
    }
   ],
   "source": [
    "#  9. In a town, the percentage of men is 52. The percentage of total literacy is 48. If total percentage of literate\n",
    "#     men is 35 of the total population, write a program to find the total number of illiterate men and women if\n",
    "#     the population of the town is 80,000.\n",
    "\n",
    "tp = 80000\n",
    "M = 0.52*tp\n",
    "W = (1-0.52)*tp\n",
    "\n",
    "print(f\"Total Men : {M}\")\n",
    "print(f\"Total Women : {W}\")\n",
    "\n",
    "TL = 0.48*tp\n",
    "print(f\"Total Literacy : {TL}\")\n",
    "\n",
    "ML = 0.35*tp\n",
    "print(f\"Total Men Literacy : {ML}\")\n",
    "\n",
    "WL = TL - ML\n",
    "print(f\"Total Women Literacy : {WL}\")"
   ]
  },
  {
   "cell_type": "code",
   "execution_count": 60,
   "id": "53c4816f-064c-4199-a195-73671bcf99b4",
   "metadata": {},
   "outputs": [
    {
     "name": "stdin",
     "output_type": "stream",
     "text": [
      "Enter the Amount in hundreds 560\n"
     ]
    },
    {
     "name": "stdout",
     "output_type": "stream",
     "text": [
      "100 rs notes :5.0\n",
      "50 rs notes :1.0\n",
      "10 rs notes :1.0\n"
     ]
    }
   ],
   "source": [
    "#  10. A cashier has currency notes of denominations 10, 50 and 100. If the amount to be withdrawn is input\n",
    "#      through the keyboard in hundreds, find the total number of currency notes of each denomination the\n",
    "#      cashier will have to give to the withdrawer.\n",
    "\n",
    "Amount = eval(input('Enter the Amount in hundreds'))\n",
    "\n",
    "N100 = Amount%100\n",
    "#print(f'{N100}')\n",
    "\n",
    "rem1 = Amount-N100\n",
    "#print(\"rem after 100 :\",rem1)\n",
    "noof100 = rem1/100\n",
    "print(f\"100 rs notes :{noof100}\")\n",
    "##########################################\n",
    "Amount2 = N100\n",
    "N50 = Amount2%50\n",
    "#print(f'{N50}')\n",
    "\n",
    "rem2 = Amount2-N50\n",
    "#print(\"rem after 100 and 50 :\",rem2)\n",
    "noof50 = rem2/50\n",
    "print(f\"50 rs notes :{noof50}\")\n",
    "##########################################\n",
    "Amount3 = N50\n",
    "N10 = Amount3%10\n",
    "#print(f'{N10}')\n",
    "\n",
    "rem3 = Amount3-N10\n",
    "#print(\"rem after 100 and 50 and 10:\",rem3)\n",
    "noof10 = rem3/10\n",
    "print(f\"10 rs notes :{noof10}\")"
   ]
  }
 ],
 "metadata": {
  "kernelspec": {
   "display_name": "Python 3 (ipykernel)",
   "language": "python",
   "name": "python3"
  },
  "language_info": {
   "codemirror_mode": {
    "name": "ipython",
    "version": 3
   },
   "file_extension": ".py",
   "mimetype": "text/x-python",
   "name": "python",
   "nbconvert_exporter": "python",
   "pygments_lexer": "ipython3",
   "version": "3.11.7"
  }
 },
 "nbformat": 4,
 "nbformat_minor": 5
}
