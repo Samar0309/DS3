{
 "cells": [
  {
   "cell_type": "code",
   "execution_count": 2,
   "id": "ec1d41ba-f9ef-4f2f-959c-e030f41a2741",
   "metadata": {},
   "outputs": [
    {
     "name": "stdout",
     "output_type": "stream",
     "text": [
      "3924\n"
     ]
    }
   ],
   "source": [
    "#case 1\n",
    "def f_add(n1=10, n2 = 3424):\n",
    "    add = n1+n2\n",
    "    print(add)\n",
    "\n",
    "f_add(500)"
   ]
  },
  {
   "cell_type": "code",
   "execution_count": 6,
   "id": "2f21b07e-f13c-4632-a75b-a637c86c4f41",
   "metadata": {},
   "outputs": [
    {
     "name": "stdout",
     "output_type": "stream",
     "text": [
      "1100\n"
     ]
    }
   ],
   "source": [
    "# Case - 2\n",
    "def f_2(n1,n2=90):\n",
    "    add=n1+n2\n",
    "    print(add)\n",
    "\n",
    "f_2(300,800)"
   ]
  },
  {
   "cell_type": "code",
   "execution_count": 8,
   "id": "e7c2a058-5ed0-477c-b94e-13d767333a0a",
   "metadata": {},
   "outputs": [
    {
     "name": "stdout",
     "output_type": "stream",
     "text": [
      "80\n"
     ]
    }
   ],
   "source": [
    "# case 3\n",
    "def f_3(n1,n2=20):\n",
    "    n2 = 30\n",
    "    add = n1+n2\n",
    "    print(add)\n",
    "\n",
    "f_3(50,25)"
   ]
  },
  {
   "cell_type": "code",
   "execution_count": 11,
   "id": "64da20dc-6ce4-47d0-9f60-2f1d4ff9e3bf",
   "metadata": {},
   "outputs": [
    {
     "name": "stdout",
     "output_type": "stream",
     "text": [
      "6\n"
     ]
    }
   ],
   "source": [
    "# case 4\n",
    "def f_4(n1,n2=1):\n",
    "    n2 = 2\n",
    "    add =  n1+n2\n",
    "    print(add)\n",
    "n2=3\n",
    "f_4(4,5)   "
   ]
  },
  {
   "cell_type": "code",
   "execution_count": 16,
   "id": "d8e34471-5a49-41f0-8475-e4cf26cbc1aa",
   "metadata": {},
   "outputs": [
    {
     "name": "stdout",
     "output_type": "stream",
     "text": [
      "5\n"
     ]
    }
   ],
   "source": [
    "# Case-5:\n",
    "a=1\n",
    "b=2\n",
    "def f_5(a=3):\n",
    "    add=a+b\n",
    "    print(add)\n",
    "    \n",
    "f_5()"
   ]
  },
  {
   "cell_type": "code",
   "execution_count": 21,
   "id": "df8a7164-e257-4413-bc29-32c0233cc1ed",
   "metadata": {},
   "outputs": [
    {
     "ename": "TypeError",
     "evalue": "add11() got an unexpected keyword argument 'b1'",
     "output_type": "error",
     "traceback": [
      "\u001b[1;31m---------------------------------------------------------------------------\u001b[0m",
      "\u001b[1;31mTypeError\u001b[0m                                 Traceback (most recent call last)",
      "Cell \u001b[1;32mIn[21], line 7\u001b[0m\n\u001b[0;32m      5\u001b[0m     add1\u001b[38;5;241m=\u001b[39ma1\u001b[38;5;241m+\u001b[39mb1\n\u001b[0;32m      6\u001b[0m     \u001b[38;5;28mprint\u001b[39m(add1)\n\u001b[1;32m----> 7\u001b[0m add11(a1\u001b[38;5;241m=\u001b[39m\u001b[38;5;241m2000\u001b[39m,b1\u001b[38;5;241m=\u001b[39m\u001b[38;5;241m3000\u001b[39m)\n",
      "\u001b[1;31mTypeError\u001b[0m: add11() got an unexpected keyword argument 'b1'"
     ]
    }
   ],
   "source": [
    "# Case-6:\n",
    "a1=100\n",
    "b1=200\n",
    "def add11(a1=1000):\n",
    "    add1=a1+b1\n",
    "    print(add1)\n",
    "add11(a1=2000,b1=3000)\n",
    "# will give error becaause we are asking for only 1 argument in defining block but when we are calling we are \n",
    "# giving two arguments"
   ]
  },
  {
   "cell_type": "code",
   "execution_count": 25,
   "id": "b577ccfb-abbd-4f01-8127-2bfdb76d5965",
   "metadata": {},
   "outputs": [
    {
     "name": "stdout",
     "output_type": "stream",
     "text": [
      "2026\n"
     ]
    }
   ],
   "source": [
    "# Case-7:\n",
    "a1=100\n",
    "b1=20\n",
    "def add11(a1=1000):\n",
    "    add1=a1+b1\n",
    "    print(add1)\n",
    "add11(a1=2006)"
   ]
  },
  {
   "cell_type": "code",
   "execution_count": 26,
   "id": "1b32fb37-584e-44f5-b9ae-c4d9f09cc23b",
   "metadata": {},
   "outputs": [
    {
     "name": "stdout",
     "output_type": "stream",
     "text": [
      "502\n"
     ]
    }
   ],
   "source": [
    "# Case-8:\n",
    "a1=1\n",
    "b1=2\n",
    "def add11(a1=10):\n",
    "    a1=500\n",
    "    add1=a1+b1\n",
    "    print(add1)\n",
    "add11(a1=25)"
   ]
  },
  {
   "cell_type": "code",
   "execution_count": 28,
   "id": "51a559f6-7da5-4bbe-bfe6-3469c3533087",
   "metadata": {},
   "outputs": [
    {
     "name": "stdout",
     "output_type": "stream",
     "text": [
      "5209\n"
     ]
    }
   ],
   "source": [
    "# Case-9:\n",
    "a1=100\n",
    "b1=200\n",
    "def add11(a1=1000):\n",
    "    a1=5009\n",
    "    add1=a1+b1\n",
    "    print(add1)\n",
    "a1=6000\n",
    "add11(a1=2000)\n"
   ]
  },
  {
   "cell_type": "markdown",
   "id": "a61a70b6-1c0f-4a87-8455-057a821aedd7",
   "metadata": {},
   "source": [
    "# if any variable is assigned a value inside defining block or below defining line then \n",
    "# it has highest priority- as in case 9\n",
    "# -------------------------------------------------------------------\n",
    "# but in case 7 if any variable is assigned a value inside brackets of call and defining line  then\n",
    "# calling line bracket value will be preffered"
   ]
  },
  {
   "cell_type": "code",
   "execution_count": 32,
   "id": "a67e5459-49ae-43c4-bb39-b6f816ea810c",
   "metadata": {},
   "outputs": [
    {
     "name": "stdout",
     "output_type": "stream",
     "text": [
      "3\n"
     ]
    }
   ],
   "source": [
    "# Case-10:\n",
    "b1=1\n",
    "def addd():\n",
    "    addd=a1+b1\n",
    "    print(addd)\n",
    "a1=2\n",
    "addd()"
   ]
  },
  {
   "cell_type": "markdown",
   "id": "b88bbd4f-a494-4453-93db-7bdce4671cd3",
   "metadata": {},
   "source": [
    "# In case 10 , it confuses that a1 is defined outsde the function, yes ut is correct but as we know python is step by step \n",
    "#  Process so it will save b1=1 then start defining and as sson as definig is done it will save a1 = 2andit will saved because \n",
    "#  code has already gone through a1 = 2 line while defining\n",
    "\n",
    "# lets try below to give a1 = 2 at last line \n",
    "# Case 10.1"
   ]
  },
  {
   "cell_type": "code",
   "execution_count": 33,
   "id": "aebf9e60-19aa-4700-9950-bcbb3e869711",
   "metadata": {},
   "outputs": [
    {
     "name": "stdout",
     "output_type": "stream",
     "text": [
      "3\n"
     ]
    }
   ],
   "source": [
    "# Case-10.1:\n",
    "b1=1\n",
    "def addd():\n",
    "    addd=a1+b1\n",
    "    print(addd)\n",
    "\n",
    "addd()\n",
    "a1=2\n",
    "# addd()"
   ]
  },
  {
   "cell_type": "code",
   "execution_count": null,
   "id": "356f6aaf-6874-46fa-bca9-753a7292d6f2",
   "metadata": {},
   "outputs": [],
   "source": [
    "# it again gives three becasue code this time also ran through calling line and saved the value"
   ]
  },
  {
   "cell_type": "code",
   "execution_count": 34,
   "id": "ddbe10e6-f230-4beb-95a4-bc5b3652764a",
   "metadata": {},
   "outputs": [
    {
     "name": "stdout",
     "output_type": "stream",
     "text": [
      "6200\n"
     ]
    }
   ],
   "source": [
    "# Case-11:\n",
    "b1=200\n",
    "def add11():\n",
    "    add1=a1+b1\n",
    "    print(add1)\n",
    "a1=6000\n",
    "add11()"
   ]
  },
  {
   "cell_type": "code",
   "execution_count": 49,
   "id": "ad93112b-712f-4a63-b45c-3a796d49d41b",
   "metadata": {},
   "outputs": [
    {
     "ename": "NameError",
     "evalue": "name 'a221' is not defined",
     "output_type": "error",
     "traceback": [
      "\u001b[1;31m---------------------------------------------------------------------------\u001b[0m",
      "\u001b[1;31mNameError\u001b[0m                                 Traceback (most recent call last)",
      "Cell \u001b[1;32mIn[49], line 8\u001b[0m\n\u001b[0;32m      5\u001b[0m     add1\u001b[38;5;241m=\u001b[39ma221\u001b[38;5;241m+\u001b[39mb221\n\u001b[0;32m      6\u001b[0m     \u001b[38;5;28mprint\u001b[39m(add1)\n\u001b[1;32m----> 8\u001b[0m add221()\n\u001b[0;32m      9\u001b[0m a221\u001b[38;5;241m=\u001b[39m\u001b[38;5;241m6000\u001b[39m\n",
      "Cell \u001b[1;32mIn[42], line 3\u001b[0m, in \u001b[0;36madd221\u001b[1;34m()\u001b[0m\n\u001b[0;32m      2\u001b[0m \u001b[38;5;28;01mdef\u001b[39;00m \u001b[38;5;21madd221\u001b[39m():\n\u001b[1;32m----> 3\u001b[0m     add1\u001b[38;5;241m=\u001b[39ma221\u001b[38;5;241m+\u001b[39mb221\n\u001b[0;32m      4\u001b[0m     \u001b[38;5;28mprint\u001b[39m(add1)\n",
      "\u001b[1;31mNameError\u001b[0m: name 'a221' is not defined"
     ]
    }
   ],
   "source": [
    "# Case-12:\n",
    "\n",
    "b221=200\n",
    "def add21():\n",
    "    add1=a221+b221\n",
    "    print(add1)\n",
    "    \n",
    "add221()\n",
    "a221=6000"
   ]
  },
  {
   "cell_type": "code",
   "execution_count": 50,
   "id": "16148668-85f0-4fab-bf09-a195f5b0fbbc",
   "metadata": {},
   "outputs": [
    {
     "ename": "UnboundLocalError",
     "evalue": "cannot access local variable 'b21' where it is not associated with a value",
     "output_type": "error",
     "traceback": [
      "\u001b[1;31m---------------------------------------------------------------------------\u001b[0m",
      "\u001b[1;31mUnboundLocalError\u001b[0m                         Traceback (most recent call last)",
      "Cell \u001b[1;32mIn[50], line 8\u001b[0m\n\u001b[0;32m      6\u001b[0m     b21\u001b[38;5;241m=\u001b[39m\u001b[38;5;241m2000\u001b[39m\n\u001b[0;32m      7\u001b[0m     \u001b[38;5;28mprint\u001b[39m(add1)\n\u001b[1;32m----> 8\u001b[0m add21()\n",
      "Cell \u001b[1;32mIn[50], line 5\u001b[0m, in \u001b[0;36madd21\u001b[1;34m()\u001b[0m\n\u001b[0;32m      3\u001b[0m \u001b[38;5;28;01mdef\u001b[39;00m \u001b[38;5;21madd21\u001b[39m():\n\u001b[0;32m      4\u001b[0m     a21\u001b[38;5;241m=\u001b[39m\u001b[38;5;241m1000\u001b[39m\n\u001b[1;32m----> 5\u001b[0m     add1\u001b[38;5;241m=\u001b[39ma21\u001b[38;5;241m+\u001b[39mb21  \n\u001b[0;32m      6\u001b[0m     b21\u001b[38;5;241m=\u001b[39m\u001b[38;5;241m2000\u001b[39m\n\u001b[0;32m      7\u001b[0m     \u001b[38;5;28mprint\u001b[39m(add1)\n",
      "\u001b[1;31mUnboundLocalError\u001b[0m: cannot access local variable 'b21' where it is not associated with a value"
     ]
    }
   ],
   "source": [
    "# Case-13:\n",
    "b21=200\n",
    "def add21():\n",
    "    a21=1000\n",
    "    add1=a21+b21  \n",
    "    b21=2000\n",
    "    print(add1)\n",
    "add21()"
   ]
  },
  {
   "cell_type": "code",
   "execution_count": null,
   "id": "8c106d7b-eb41-43c6-98d5-1bfa4e0a3b96",
   "metadata": {},
   "outputs": [],
   "source": []
  }
 ],
 "metadata": {
  "kernelspec": {
   "display_name": "Python 3 (ipykernel)",
   "language": "python",
   "name": "python3"
  },
  "language_info": {
   "codemirror_mode": {
    "name": "ipython",
    "version": 3
   },
   "file_extension": ".py",
   "mimetype": "text/x-python",
   "name": "python",
   "nbconvert_exporter": "python",
   "pygments_lexer": "ipython3",
   "version": "3.11.7"
  }
 },
 "nbformat": 4,
 "nbformat_minor": 5
}
