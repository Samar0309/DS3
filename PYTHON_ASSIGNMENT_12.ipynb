{
 "cells": [
  {
   "cell_type": "code",
   "execution_count": null,
   "id": "2e70d942-a19d-474c-bd56-b7f904357606",
   "metadata": {},
   "outputs": [],
   "source": []
  },
  {
   "cell_type": "code",
   "execution_count": 1,
   "id": "19d39043-1f54-4693-9937-bb7c2703a5e3",
   "metadata": {},
   "outputs": [
    {
     "data": {
      "text/plain": [
       "True"
      ]
     },
     "execution_count": 1,
     "metadata": {},
     "output_type": "execute_result"
    }
   ],
   "source": [
    "str1 = 'abcd'\n",
    "str1.isalnum() \n",
    "# The function isalnum() in Python programming is utilized to verify if \n",
    "#  all the characters within a string are either numbers (0-9) or letters (a-z or A-Z). "
   ]
  },
  {
   "cell_type": "code",
   "execution_count": 61,
   "id": "edf508e2-dd67-4fee-ae4d-c2e186524b2b",
   "metadata": {},
   "outputs": [
    {
     "data": {
      "text/plain": [
       "True"
      ]
     },
     "execution_count": 61,
     "metadata": {},
     "output_type": "execute_result"
    }
   ],
   "source": [
    "str2 = '123'\n",
    "str2.isalnum()"
   ]
  },
  {
   "cell_type": "code",
   "execution_count": 3,
   "id": "b0a54f3c-0a94-4a77-a9dd-430bd8b7c029",
   "metadata": {},
   "outputs": [
    {
     "data": {
      "text/plain": [
       "True"
      ]
     },
     "execution_count": 3,
     "metadata": {},
     "output_type": "execute_result"
    }
   ],
   "source": [
    "str3 = '123abcd'\n",
    "str3.isalnum()"
   ]
  },
  {
   "cell_type": "code",
   "execution_count": 6,
   "id": "812f477d-d183-425d-9604-000b5aa6a822",
   "metadata": {},
   "outputs": [
    {
     "data": {
      "text/plain": [
       "False"
      ]
     },
     "execution_count": 6,
     "metadata": {},
     "output_type": "execute_result"
    }
   ],
   "source": [
    "str4 = 'abcd123'\n",
    "str4.isalpha()\n",
    "# The isalpha() method returns True if all the characters in the string are alphabets, and the isalnum() method\n",
    "# returns True if all the characters in the string are either alphabets or numbers."
   ]
  },
  {
   "cell_type": "code",
   "execution_count": 7,
   "id": "2f66fff8-a7fb-46b4-9541-727694feec04",
   "metadata": {},
   "outputs": [
    {
     "data": {
      "text/plain": [
       "True"
      ]
     },
     "execution_count": 7,
     "metadata": {},
     "output_type": "execute_result"
    }
   ],
   "source": [
    "str5 = 'abcd'\n",
    "str5.isalpha()"
   ]
  },
  {
   "cell_type": "code",
   "execution_count": 9,
   "id": "f022f51a-b197-4e41-83a9-30d6660fa6f6",
   "metadata": {},
   "outputs": [
    {
     "ename": "AttributeError",
     "evalue": "'int' object has no attribute 'isalpha'",
     "output_type": "error",
     "traceback": [
      "\u001b[1;31m---------------------------------------------------------------------------\u001b[0m",
      "\u001b[1;31mAttributeError\u001b[0m                            Traceback (most recent call last)",
      "Cell \u001b[1;32mIn[9], line 2\u001b[0m\n\u001b[0;32m      1\u001b[0m str6 \u001b[38;5;241m=\u001b[39m \u001b[38;5;241m1234\u001b[39m\n\u001b[1;32m----> 2\u001b[0m str6\u001b[38;5;241m.\u001b[39misalpha()\n",
      "\u001b[1;31mAttributeError\u001b[0m: 'int' object has no attribute 'isalpha'"
     ]
    }
   ],
   "source": [
    "str6 = 1234\n",
    "str6.isalpha() # error because number is not a valid input for string"
   ]
  },
  {
   "cell_type": "code",
   "execution_count": 25,
   "id": "b04945c8-55cf-493c-a99e-9c621f3570f0",
   "metadata": {},
   "outputs": [
    {
     "data": {
      "text/plain": [
       "True"
      ]
     },
     "execution_count": 25,
     "metadata": {},
     "output_type": "execute_result"
    }
   ],
   "source": [
    "str7 = 'a1'\n",
    "str7.isascii()\n",
    "# The isascii() method returns True if all the characters are ascii characters  (a-z)."
   ]
  },
  {
   "cell_type": "code",
   "execution_count": 24,
   "id": "0ac1d027-fa4b-4a39-9977-fe12ce4705b2",
   "metadata": {},
   "outputs": [
    {
     "data": {
      "text/plain": [
       "True"
      ]
     },
     "execution_count": 24,
     "metadata": {},
     "output_type": "execute_result"
    }
   ],
   "source": [
    "str8 = '89'\n",
    "str8.isascii()"
   ]
  },
  {
   "cell_type": "code",
   "execution_count": 29,
   "id": "e696388c-c177-4904-a710-d20f28ae732d",
   "metadata": {},
   "outputs": [
    {
     "data": {
      "text/plain": [
       "True"
      ]
     },
     "execution_count": 29,
     "metadata": {},
     "output_type": "execute_result"
    }
   ],
   "source": [
    "str9 = \"123\"\n",
    "str9.isdecimal()\n",
    "# The isdecimal() method returns True if all the characters are decimals (0-9)."
   ]
  },
  {
   "cell_type": "code",
   "execution_count": 30,
   "id": "6100f1e3-fb2e-4412-a474-71b114627df3",
   "metadata": {},
   "outputs": [
    {
     "data": {
      "text/plain": [
       "False"
      ]
     },
     "execution_count": 30,
     "metadata": {},
     "output_type": "execute_result"
    }
   ],
   "source": [
    "str10 = \"123.2\"\n",
    "str10.isdecimal() # fasle becasuee . is not a decimal or number , its is a character"
   ]
  },
  {
   "cell_type": "code",
   "execution_count": 31,
   "id": "58e0a3e4-3da1-462e-bc17-6ca77b1299bb",
   "metadata": {},
   "outputs": [
    {
     "data": {
      "text/plain": [
       "False"
      ]
     },
     "execution_count": 31,
     "metadata": {},
     "output_type": "execute_result"
    }
   ],
   "source": [
    "str11 = 'a'\n",
    "str11.isdigit() # false because  a  is not a digit\n",
    "# The isdigit() method returns True if all the characters are digits, otherwise False.\n",
    "# Exponents, like ², are also considered to be a digit."
   ]
  },
  {
   "cell_type": "code",
   "execution_count": 32,
   "id": "9037731b-434c-4ba6-a248-09cf352fbc22",
   "metadata": {},
   "outputs": [
    {
     "data": {
      "text/plain": [
       "True"
      ]
     },
     "execution_count": 32,
     "metadata": {},
     "output_type": "execute_result"
    }
   ],
   "source": [
    "str12 = '0'\n",
    "str12.isdigit()  # true because  is  a digit"
   ]
  },
  {
   "cell_type": "code",
   "execution_count": 33,
   "id": "d65ef48f-4673-4f53-8644-4a134aad1a03",
   "metadata": {},
   "outputs": [
    {
     "data": {
      "text/plain": [
       "False"
      ]
     },
     "execution_count": 33,
     "metadata": {},
     "output_type": "execute_result"
    }
   ],
   "source": [
    "str13 = '3a'\n",
    "str13.isdigit() # false because  a  is not a digit"
   ]
  },
  {
   "cell_type": "code",
   "execution_count": 34,
   "id": "224b8c89-0b5c-4837-85c7-0d73b2d5b463",
   "metadata": {},
   "outputs": [
    {
     "data": {
      "text/plain": [
       "True"
      ]
     },
     "execution_count": 34,
     "metadata": {},
     "output_type": "execute_result"
    }
   ],
   "source": [
    "str14 = 'abcd'\n",
    "str14.isidentifier() # can be considered as valid identifier as it folows the rules of variables"
   ]
  },
  {
   "cell_type": "code",
   "execution_count": 35,
   "id": "18a7a921-eb8a-499f-9f49-c9bc0c74ad77",
   "metadata": {},
   "outputs": [
    {
     "data": {
      "text/plain": [
       "True"
      ]
     },
     "execution_count": 35,
     "metadata": {},
     "output_type": "execute_result"
    }
   ],
   "source": [
    "str15 = 'str_function_abcdefghijklmnopqrstuvwxyz_0123456789'\n",
    "str15.isidentifier() # can be considered as valid identifier as it folows the rules of variables"
   ]
  },
  {
   "cell_type": "code",
   "execution_count": 36,
   "id": "7cf1f5fd-97c8-4bd3-9985-2185b15ab9db",
   "metadata": {},
   "outputs": [
    {
     "data": {
      "text/plain": [
       "False"
      ]
     },
     "execution_count": 36,
     "metadata": {},
     "output_type": "execute_result"
    }
   ],
   "source": [
    "str16 = 'str_function_abcdefghijklmnopqrstuvwxyz 0123456789'\n",
    "str16.isidentifier() # becasue string cannot cintain space so it is not a identifier as same as variable rules"
   ]
  },
  {
   "cell_type": "code",
   "execution_count": 37,
   "id": "13386c6d-85d2-418c-b1c0-59ce41b89ce9",
   "metadata": {},
   "outputs": [
    {
     "data": {
      "text/plain": [
       "False"
      ]
     },
     "execution_count": 37,
     "metadata": {},
     "output_type": "execute_result"
    }
   ],
   "source": [
    "str17 = '13abcd'\n",
    "str17.isidentifier() # not a valid identifier as it starts with number "
   ]
  },
  {
   "cell_type": "code",
   "execution_count": 38,
   "id": "3be99e80-5c7f-4444-acba-37e63cfe2826",
   "metadata": {},
   "outputs": [
    {
     "data": {
      "text/plain": [
       "False"
      ]
     },
     "execution_count": 38,
     "metadata": {},
     "output_type": "execute_result"
    }
   ],
   "source": [
    "str18 = 'AbCdEfGhIjKlMnOpQrStUvWxYz'\n",
    "str18.islower() # false because the alphabets present in string are mixed"
   ]
  },
  {
   "cell_type": "code",
   "execution_count": 39,
   "id": "ac5c1df0-a1b3-4769-a580-b573247a6259",
   "metadata": {},
   "outputs": [
    {
     "data": {
      "text/plain": [
       "True"
      ]
     },
     "execution_count": 39,
     "metadata": {},
     "output_type": "execute_result"
    }
   ],
   "source": [
    "str19 = 'abcdefghijklmnopqrstuvwxyz'\n",
    "str19.islower() # true because the alphabets present in string are lower"
   ]
  },
  {
   "cell_type": "code",
   "execution_count": 40,
   "id": "1ac9a1a4-7bd6-4296-a33a-ee1f71b5471b",
   "metadata": {},
   "outputs": [
    {
     "data": {
      "text/plain": [
       "True"
      ]
     },
     "execution_count": 40,
     "metadata": {},
     "output_type": "execute_result"
    }
   ],
   "source": [
    "str20 = 'abcd123'\n",
    "str20.islower() # true because the alphabets present in string combination is lower"
   ]
  },
  {
   "cell_type": "code",
   "execution_count": 41,
   "id": "2c7c0a85-1aea-465e-9fc1-6351712668e3",
   "metadata": {},
   "outputs": [
    {
     "data": {
      "text/plain": [
       "False"
      ]
     },
     "execution_count": 41,
     "metadata": {},
     "output_type": "execute_result"
    }
   ],
   "source": [
    "str21  = '123456789'\n",
    "str21.islower() # inly numeric string cant be compared to lower or upper"
   ]
  },
  {
   "cell_type": "code",
   "execution_count": 43,
   "id": "bc6778a4-b0a8-42a2-80e1-c3dcb68cd598",
   "metadata": {},
   "outputs": [
    {
     "data": {
      "text/plain": [
       "False"
      ]
     },
     "execution_count": 43,
     "metadata": {},
     "output_type": "execute_result"
    }
   ],
   "source": [
    "str22 = 'ABCD'\n",
    "str22.islower() # because string is all upper"
   ]
  },
  {
   "cell_type": "code",
   "execution_count": 44,
   "id": "70ee8b6b-6b71-4f73-a529-3b3d0b28c6fe",
   "metadata": {},
   "outputs": [
    {
     "data": {
      "text/plain": [
       "True"
      ]
     },
     "execution_count": 44,
     "metadata": {},
     "output_type": "execute_result"
    }
   ],
   "source": [
    "str23 = '1234567890'\n",
    "str23.isnumeric() # true because strings all characters are nmeric"
   ]
  },
  {
   "cell_type": "code",
   "execution_count": 45,
   "id": "488ca692-0156-4935-8c53-ebb6a2f12316",
   "metadata": {},
   "outputs": [
    {
     "data": {
      "text/plain": [
       "False"
      ]
     },
     "execution_count": 45,
     "metadata": {},
     "output_type": "execute_result"
    }
   ],
   "source": [
    "str24 = '1234567890.489'\n",
    "str24.isnumeric() # false because strings all characters are numeric execpet decimal it willl be consdered as illegal char"
   ]
  },
  {
   "cell_type": "code",
   "execution_count": 46,
   "id": "1bdf38b0-7f03-4711-8518-16b04fc0befc",
   "metadata": {},
   "outputs": [
    {
     "data": {
      "text/plain": [
       "False"
      ]
     },
     "execution_count": 46,
     "metadata": {},
     "output_type": "execute_result"
    }
   ],
   "source": [
    "str25 = 'abcd1234'\n",
    "str25.isnumeric() # false  becaause abcd i not numeric"
   ]
  },
  {
   "cell_type": "code",
   "execution_count": 48,
   "id": "b13a8044-c1c3-4ff3-8d5d-70c8d264d838",
   "metadata": {},
   "outputs": [
    {
     "data": {
      "text/plain": [
       "True"
      ]
     },
     "execution_count": 48,
     "metadata": {},
     "output_type": "execute_result"
    }
   ],
   "source": [
    "str26 = 'Hi how are you , what about your parents , will plan something soon.. great sound good'\n",
    "str26.isprintable() # true becasuee all the part of string is simple and printable"
   ]
  },
  {
   "cell_type": "code",
   "execution_count": 49,
   "id": "b9034261-0e10-4d67-bce1-ba5b4a45d568",
   "metadata": {},
   "outputs": [
    {
     "data": {
      "text/plain": [
       "False"
      ]
     },
     "execution_count": 49,
     "metadata": {},
     "output_type": "execute_result"
    }
   ],
   "source": [
    "str27 = 'abcd\\n 123'\n",
    "str27.isprintable() # false because \\n is not prinable"
   ]
  },
  {
   "cell_type": "code",
   "execution_count": 52,
   "id": "6b4beadd-4059-429b-9d4b-c87f346a0606",
   "metadata": {},
   "outputs": [
    {
     "data": {
      "text/plain": [
       "False"
      ]
     },
     "execution_count": 52,
     "metadata": {},
     "output_type": "execute_result"
    }
   ],
   "source": [
    "str28 = 'a                                  b '\n",
    "str28.isspace() # false because string contains character other than space"
   ]
  },
  {
   "cell_type": "code",
   "execution_count": 54,
   "id": "35b54211-f38d-4794-9eb4-2ec40560f6f4",
   "metadata": {},
   "outputs": [
    {
     "data": {
      "text/plain": [
       "True"
      ]
     },
     "execution_count": 54,
     "metadata": {},
     "output_type": "execute_result"
    }
   ],
   "source": [
    "str29  = '               '\n",
    "str29.isspace() # true because string contains only space"
   ]
  },
  {
   "cell_type": "code",
   "execution_count": 55,
   "id": "d3b226a7-8382-494f-81e1-0b6c0fa607e4",
   "metadata": {},
   "outputs": [
    {
     "data": {
      "text/plain": [
       "False"
      ]
     },
     "execution_count": 55,
     "metadata": {},
     "output_type": "execute_result"
    }
   ],
   "source": [
    "str30 = 'Hi how are you'\n",
    "str30.istitle()  # false becasue each word inside string do not follows first letter capital rule"
   ]
  },
  {
   "cell_type": "code",
   "execution_count": 56,
   "id": "a59ca2d4-d530-41ea-922b-8d59e27be944",
   "metadata": {},
   "outputs": [
    {
     "data": {
      "text/plain": [
       "True"
      ]
     },
     "execution_count": 56,
     "metadata": {},
     "output_type": "execute_result"
    }
   ],
   "source": [
    "str31 = 'Hi How Are You'\n",
    "str31.istitle() # true becasue each word inside string follows first letter capital rule"
   ]
  },
  {
   "cell_type": "code",
   "execution_count": 57,
   "id": "f99f70ef-9d1f-44c4-a2e7-f4d077461c5e",
   "metadata": {},
   "outputs": [
    {
     "data": {
      "text/plain": [
       "True"
      ]
     },
     "execution_count": 57,
     "metadata": {},
     "output_type": "execute_result"
    }
   ],
   "source": [
    "str32 = 'ABCD'\n",
    "str32.isupper() # true becasuse string has all letter capital/upper case"
   ]
  },
  {
   "cell_type": "code",
   "execution_count": 58,
   "id": "173a83fa-806e-4934-b892-40a4fea60239",
   "metadata": {},
   "outputs": [
    {
     "data": {
      "text/plain": [
       "False"
      ]
     },
     "execution_count": 58,
     "metadata": {},
     "output_type": "execute_result"
    }
   ],
   "source": [
    "str33 = 'ABCDab'\n",
    "str33.isupper() # fasle becasuse string does not has all letter capital/upper case"
   ]
  },
  {
   "cell_type": "code",
   "execution_count": 60,
   "id": "308761d7-95d5-4025-be96-c4717986ce1d",
   "metadata": {},
   "outputs": [
    {
     "data": {
      "text/plain": [
       "True"
      ]
     },
     "execution_count": 60,
     "metadata": {},
     "output_type": "execute_result"
    }
   ],
   "source": [
    "str34 = 'ABCD1234'\n",
    "str34.isupper() # true becasuse string alphabets  has all letter capital/upper case\n",
    "# numbers will be ignored"
   ]
  },
  {
   "cell_type": "code",
   "execution_count": null,
   "id": "a2acb003-66ae-451f-9a67-52032e6bcda2",
   "metadata": {},
   "outputs": [],
   "source": []
  }
 ],
 "metadata": {
  "kernelspec": {
   "display_name": "Python 3 (ipykernel)",
   "language": "python",
   "name": "python3"
  },
  "language_info": {
   "codemirror_mode": {
    "name": "ipython",
    "version": 3
   },
   "file_extension": ".py",
   "mimetype": "text/x-python",
   "name": "python",
   "nbconvert_exporter": "python",
   "pygments_lexer": "ipython3",
   "version": "3.11.7"
  }
 },
 "nbformat": 4,
 "nbformat_minor": 5
}
