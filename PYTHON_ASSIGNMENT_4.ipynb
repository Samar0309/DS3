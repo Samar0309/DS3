{
 "cells": [
  {
   "cell_type": "code",
   "execution_count": 1,
   "id": "bf538056-ef82-4137-86b0-e26a0d477259",
   "metadata": {},
   "outputs": [
    {
     "name": "stdin",
     "output_type": "stream",
     "text": [
      "Enter your no 237474009\n"
     ]
    },
    {
     "name": "stdout",
     "output_type": "stream",
     "text": [
      "No is Odd\n"
     ]
    }
   ],
   "source": [
    "# wap ask the user enter a number\n",
    "# find it is a even number or odd number\n",
    "# idea: any number divide by 2 , the remiander=0\n",
    "#       it is called as even number\n",
    "\n",
    "N = eval(input(\"Enter your no\"))\n",
    "if N%2 ==0:\n",
    "    print(\"No is Even\")\n",
    "else:\n",
    "    print(\"No is Odd\")"
   ]
  },
  {
   "cell_type": "code",
   "execution_count": 2,
   "id": "5eb3c3cb-304a-46a3-9463-3172d44614cb",
   "metadata": {},
   "outputs": [
    {
     "name": "stdout",
     "output_type": "stream",
     "text": [
      "Nummber is :  29\n",
      "No is Odd\n"
     ]
    }
   ],
   "source": [
    "# Implement the above problem by taking a random input  between  1, 100\n",
    "import random\n",
    "\n",
    "N = random.randint(1,100)\n",
    "print(\"Random Nummber is : \",N)\n",
    "if N%2 ==0:\n",
    "    print(\"No is Even\")\n",
    "else:\n",
    "    print(\"No is Odd\")\n"
   ]
  },
  {
   "cell_type": "code",
   "execution_count": 4,
   "id": "f748b07d-0aa0-43ec-a76a-9b6dc56f83a9",
   "metadata": {},
   "outputs": [
    {
     "name": "stdin",
     "output_type": "stream",
     "text": [
      "Enter the Distance 2\n"
     ]
    },
    {
     "name": "stdout",
     "output_type": "stream",
     "text": [
      "free ride\n"
     ]
    }
   ],
   "source": [
    "# wap ask the user enter the distance\n",
    "# if distance greater than 25km\n",
    "#      then enter the charge\n",
    "#      print the total cost\n",
    "#otherwise\n",
    "#      print free ride\n",
    "\n",
    "N = eval(input(\"Enter the Distance\"))\n",
    "if N >=25:\n",
    "    print(\"Distance Entered :\",N)\n",
    "    print(\"The Cost per Km is : 5 Rs/Km\")\n",
    "    print(\"Total cost of Ride is : \",(N*5))\n",
    "else:\n",
    "    print(\"free ride\")\n"
   ]
  },
  {
   "cell_type": "code",
   "execution_count": 15,
   "id": "27dc3372-c0f0-47b4-a1fa-0c984c3e76f9",
   "metadata": {},
   "outputs": [
    {
     "name": "stdin",
     "output_type": "stream",
     "text": [
      "Enter the Course JAVA\n"
     ]
    },
    {
     "name": "stdout",
     "output_type": "stream",
     "text": [
      "Bad\n"
     ]
    }
   ],
   "source": [
    "# wap ask the user enter the course\n",
    "# ask the user enter the Institute\n",
    "# if the course equal to data science and institute equal to naresh it\n",
    "#     then you are good\n",
    "# otherwise\n",
    "#     you are bad\n",
    "\n",
    "C =  input(\"Enter the Course\")\n",
    "if C == 'DATA SCIENCE':\n",
    "    I =  input(\"Enter the Institute\")\n",
    "    if I == 'NARESH IT':\n",
    "         print(\"Good :\")\n",
    "    else:\n",
    "        print(\"Bad\")\n",
    "else:\n",
    "    print(\"Bad\")"
   ]
  },
  {
   "cell_type": "code",
   "execution_count": 22,
   "id": "cf31a87f-62cb-4b91-b72b-bcf4465b0df6",
   "metadata": {},
   "outputs": [
    {
     "name": "stdin",
     "output_type": "stream",
     "text": [
      "Enter Second number 1\n"
     ]
    },
    {
     "name": "stdout",
     "output_type": "stream",
     "text": [
      "first number was : 3\n",
      "Try again\n"
     ]
    }
   ],
   "source": [
    "# wap ask the user enter a random number between 1 to 10, treat this as number1\n",
    "# ask the user enter another number from keyboard, treat this as number2\n",
    "# if number1 equal to number2\n",
    "#     print you won\n",
    "# otherwise\n",
    "#     print you lost\n",
    "\n",
    "N1 = random.randint(1,10)\n",
    "N2 = eval(input(\"Enter Second number\"))\n",
    "if N1==N2:\n",
    "    print(\"first number was :\",N1)\n",
    "    print(\"Won\")\n",
    "else:\n",
    "    print(\"first number was :\",N1)\n",
    "    print(\"Try again\")\n"
   ]
  },
  {
   "cell_type": "code",
   "execution_count": 28,
   "id": "eb642714-404a-4ad1-a51c-80a9ec76f355",
   "metadata": {},
   "outputs": [
    {
     "name": "stdin",
     "output_type": "stream",
     "text": [
      "Enter number 3\n"
     ]
    },
    {
     "name": "stdout",
     "output_type": "stream",
     "text": [
      "Three\n"
     ]
    }
   ],
   "source": [
    "# wap ask the user enter number\n",
    "# if number equal to 1 then print one\n",
    "# if number equal to 2 then print two\n",
    "# if number equal to 3 then print three\n",
    "# otherwise  print enter a valid number\n",
    "\n",
    "N = eval(input(\"Enter number\"))\n",
    "\n",
    "if N==1:\n",
    "    print(\"One\")\n",
    "elif N==2:\n",
    "    print(\"Two\")\n",
    "elif N==3:\n",
    "    print(\"Three\")\n",
    "else:\n",
    "    print(\"Enter Valid number\")\n"
   ]
  },
  {
   "cell_type": "code",
   "execution_count": 31,
   "id": "2851712d-eb1e-45e3-9e5c-4266739d1993",
   "metadata": {},
   "outputs": [
    {
     "name": "stdin",
     "output_type": "stream",
     "text": [
      "Enter number -9\n"
     ]
    },
    {
     "name": "stdout",
     "output_type": "stream",
     "text": [
      "Negative\n"
     ]
    }
   ],
   "source": [
    "# wap ask the user enter a number\n",
    "# if that number greater than zero print postive\n",
    "# if that number less than zero print negative\n",
    "# otherwise print zero\n",
    "\n",
    "N = eval(input(\"Enter number\"))\n",
    "\n",
    "if N>0:\n",
    "    print(\"Postive\")\n",
    "elif N==0:\n",
    "    print(\"Zero\")\n",
    "else:\n",
    "    print(\"Negative\")\n"
   ]
  },
  {
   "cell_type": "code",
   "execution_count": 41,
   "id": "468fb4f9-7666-480e-8ae0-8a087b73a3f8",
   "metadata": {},
   "outputs": [
    {
     "name": "stdin",
     "output_type": "stream",
     "text": [
      "Enter Percentage 56\n"
     ]
    },
    {
     "name": "stdout",
     "output_type": "stream",
     "text": [
      "C Grade\n"
     ]
    }
   ],
   "source": [
    "# WAP ask the user enter the percentage of marks 0 to 100\n",
    "# if percentagw gretaer than 90  print A garde\n",
    "# if percentage between 75 to 90 print B garde\n",
    "# if percentage between 50 to 75 print C grade\n",
    "# if percentage between 35 to 50 print D grade\n",
    "# if percentage less than 35 print Fail\n",
    "N = eval(input(\"Enter Percentage\"))\n",
    "\n",
    "if N>=90:\n",
    "    print(\"A Grade\")\n",
    "elif N>=75:\n",
    "    print(\"B Grade\")\n",
    "elif N>=50:\n",
    "    print(\"C Grade\")\n",
    "elif N>=35:\n",
    "    print(\"D Grade\")\n",
    "else:\n",
    "    print(\"Fail\")"
   ]
  },
  {
   "cell_type": "code",
   "execution_count": 52,
   "id": "001f1a93-df0d-41b7-9903-1821b237552a",
   "metadata": {},
   "outputs": [
    {
     "name": "stdin",
     "output_type": "stream",
     "text": [
      "Enter Age 14\n"
     ]
    },
    {
     "name": "stdout",
     "output_type": "stream",
     "text": [
      "Kid\n"
     ]
    }
   ],
   "source": [
    "# WAP ask the user enter the age\n",
    "# if the age greater tahn 100 print you are lucky\n",
    "# if the age gretaer than 75 print old age\n",
    "# if the age  between 50 to 75 print ss\n",
    "# if the age between  30 tp 50 print MA\n",
    "# if the age between  15 to 30 print young age\n",
    "# if the afe between less than 15 print kid\n",
    "\n",
    "N = eval(input(\"Enter Age\"))\n",
    "\n",
    "if N>=100:\n",
    "    print(\"lucky\")\n",
    "elif N>=75:\n",
    "    print(\"old age\")\n",
    "elif N>=50:\n",
    "    print(\"SS\")\n",
    "elif N>=30:\n",
    "    print(\"MA\")\n",
    "elif N>=15:\n",
    "    print(\"young age\")\n",
    "else:\n",
    "    print(\"Kid\")\n"
   ]
  }
 ],
 "metadata": {
  "kernelspec": {
   "display_name": "Python 3 (ipykernel)",
   "language": "python",
   "name": "python3"
  },
  "language_info": {
   "codemirror_mode": {
    "name": "ipython",
    "version": 3
   },
   "file_extension": ".py",
   "mimetype": "text/x-python",
   "name": "python",
   "nbconvert_exporter": "python",
   "pygments_lexer": "ipython3",
   "version": "3.11.7"
  }
 },
 "nbformat": 4,
 "nbformat_minor": 5
}
