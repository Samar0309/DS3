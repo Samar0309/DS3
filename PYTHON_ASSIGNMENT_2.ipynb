{
 "cells": [
  {
   "cell_type": "markdown",
   "id": "470396b5-6bf8-41be-88ef-2f6ac80c42de",
   "metadata": {},
   "source": [
    "# Assignment-2: Python basic codes"
   ]
  },
  {
   "cell_type": "code",
   "execution_count": 18,
   "id": "4475ef39-d013-4053-aa1c-0bd7246b1c78",
   "metadata": {},
   "outputs": [
    {
     "name": "stdout",
     "output_type": "stream",
     "text": [
      "The square of 22 is 484.\n"
     ]
    }
   ],
   "source": [
    "# 1. Ask the user to enter a number. Print out the square of the number\n",
    "import random\n",
    "import  time\n",
    "A = random.randint(1,100)\n",
    "print(f\"The square of {A} is {A*A}.\")"
   ]
  },
  {
   "cell_type": "code",
   "execution_count": 4,
   "id": "b2050430-67fe-4b63-83a0-3dd69acd08b4",
   "metadata": {},
   "outputs": [
    {
     "name": "stdout",
     "output_type": "stream",
     "text": [
      "80---160---240---320---400\n"
     ]
    }
   ],
   "source": [
    "# 2. Ask the user to enter a number x. print out x, 2x, 3x, 4x, and 5x, each separated by three dashes\n",
    "\n",
    "A = random.randint(1,100)\n",
    "print(A, 2*A , 3*A, 4*A, 5*A, sep = '---')"
   ]
  },
  {
   "cell_type": "code",
   "execution_count": 5,
   "id": "2d8813d8-5219-481e-b672-9dc6c51ec58e",
   "metadata": {},
   "outputs": [
    {
     "name": "stdout",
     "output_type": "stream",
     "text": [
      "Weight entererd 94 in kilograms is equal to 206.8 in pounds\n"
     ]
    }
   ],
   "source": [
    "# 3. Write a program that asks the user for a weight in kilograms and converts it to pounds. There are 2.2 pounds in a kilogram.\n",
    "\n",
    "A = random.randint(1,100)\n",
    "B = A*2.2\n",
    "print(f\"Weight entererd {A} in kilograms is equal to {B} in pounds\")\n"
   ]
  },
  {
   "cell_type": "code",
   "execution_count": 8,
   "id": "b64ea760-6938-4837-bd70-806f59c2a781",
   "metadata": {},
   "outputs": [
    {
     "name": "stdout",
     "output_type": "stream",
     "text": [
      "Total of three Nos 8 , 19 and 25 provided is 52\n",
      "Average of three Nos 8 , 19 and 25 provided is 17.333333333333332\n"
     ]
    }
   ],
   "source": [
    "# 4. Write a program that asks the user to enter three numbers (use three separate input statements).Create variables called total and average \n",
    "# that hold the sum and average of the three numbers and print out the values of total and average.\n",
    "\n",
    "A = random.randint(1,10)\n",
    "B = random.randint(11,20)\n",
    "C = random.randint(21,30)\n",
    "\n",
    "total = (A+B+C)\n",
    "avg =  (A+B+C)/3\n",
    "\n",
    "print(f\"Total of three Nos {A} , {B} and {C} provided is {total}\")\n",
    "print(f\"Average of three Nos {A} , {B} and {C} provided is {avg}\")"
   ]
  },
  {
   "cell_type": "code",
   "execution_count": 9,
   "id": "8196291b-cdfa-4475-8fe8-0837b3e265c7",
   "metadata": {},
   "outputs": [
    {
     "name": "stdout",
     "output_type": "stream",
     "text": [
      "the bill value of Rs 620 with the tip 9% is Rs 675.8  \n"
     ]
    }
   ],
   "source": [
    "# 5. A lot of cell phones have tip calculators. Write one. Ask the user forthe price of the meal and the percent tip they want to leave. Then\n",
    "# print both the tip amount and the total bill with the tip included.\n",
    "\n",
    "bill_value = random.randint(500,1000)\n",
    "tip = random.randint(1,10)  # in %\n",
    "\n",
    "Final_Bill_Amt = ( bill_value + ((bill_value*tip)/100) )\n",
    "\n",
    "print(f\"the bill value of Rs {bill_value} with the tip {tip}% is Rs {Final_Bill_Amt}  \")"
   ]
  },
  {
   "cell_type": "code",
   "execution_count": 10,
   "id": "a4c1a538-c72c-4aa3-a1c2-0b9cb4d01e42",
   "metadata": {},
   "outputs": [
    {
     "name": "stdout",
     "output_type": "stream",
     "text": [
      "The sum of 4 and 18  is  22\n",
      "The diff of 4 and 18  is  -14\n",
      "The mult of 4 and 18  is  72\n",
      "The div of 4 and 18  is  0.2222222222222222\n"
     ]
    }
   ],
   "source": [
    "# 6. wap ask the user enter the 2 numbers find the subtraction,addition, multiplication and division\n",
    "\n",
    "num1 = random.randint(1,10)\n",
    "num2 = random.randint(11,20)\n",
    "\n",
    "sum = (num1 + num2 )\n",
    "diff = (num1 - num2 )\n",
    "mult = (num1 * num2 )\n",
    "div = (num1 / num2 )\n",
    "\n",
    "print(f\"The sum of {num1} and {num2}  is  {sum}\")\n",
    "print(f\"The diff of {num1} and {num2}  is  {diff}\")\n",
    "print(f\"The mult of {num1} and {num2}  is  {mult}\")\n",
    "print(f\"The div of {num1} and {num2}  is  {div}\")"
   ]
  },
  {
   "cell_type": "code",
   "execution_count": 12,
   "id": "895f1586-e2fc-48ff-827d-e804d17ea6bf",
   "metadata": {},
   "outputs": [
    {
     "name": "stdin",
     "output_type": "stream",
     "text": [
      "enter the pie value 3.14\n"
     ]
    },
    {
     "name": "stdout",
     "output_type": "stream",
     "text": [
      "The rea of circle with Radius 7 and pie value 3.14 is 153.86\n"
     ]
    }
   ],
   "source": [
    "# 7. wap ask the user enter radius values and pi value find the area of the circle\n",
    "\n",
    "rad = random.randint(1,10)\n",
    "pie = eval(input(\"enter the pie value\"))\n",
    "\n",
    "area = (rad * rad * pie )\n",
    "\n",
    "print(f\"The rea of circle with Radius {rad} and pie value {pie} is {area}\")"
   ]
  },
  {
   "cell_type": "code",
   "execution_count": 13,
   "id": "6ac4d816-265f-4d95-9443-87ac4a3a5dbc",
   "metadata": {},
   "outputs": [
    {
     "name": "stdout",
     "output_type": "stream",
     "text": [
      "The amt in RS with $ amount equal to 268 with the conversion rate 90 is Rs 24120 \n"
     ]
    }
   ],
   "source": [
    "# 8. wap ask the user bill amount in dollars, ask the user enter how much indian rupees for one dollar print the bill amount in rupees\n",
    "\n",
    "amt = random.randint(100,500)\n",
    "conv = random.randint(80 , 90)\n",
    "\n",
    "final = ( amt * conv )\n",
    "\n",
    "print(f\"The amt in RS with $ amount equal to {amt} with the conversion rate {conv} is Rs {final} \")"
   ]
  },
  {
   "cell_type": "code",
   "execution_count": 14,
   "id": "bcc2df39-e7f6-4c88-8503-003e9a2b762f",
   "metadata": {},
   "outputs": [
    {
     "name": "stdout",
     "output_type": "stream",
     "text": [
      "the are of triangle with base 3 and height 12 is 18.0 \n"
     ]
    }
   ],
   "source": [
    "# 9. wap ask the user enter base height calculate area of the triangle\n",
    "\n",
    "b = random.randint(1,10)\n",
    "h = random.randint(10,100)\n",
    "\n",
    "final = ( b * h * (1/2 ))\n",
    "\n",
    "print(f\"the are of triangle with base {b} and height {h} is {final} \")"
   ]
  },
  {
   "cell_type": "code",
   "execution_count": 16,
   "id": "820067d5-b909-4df8-bac5-572710c593f7",
   "metadata": {},
   "outputs": [
    {
     "name": "stdout",
     "output_type": "stream",
     "text": [
      "the are of rectangle with base 5 and height 5 is 25 \n"
     ]
    }
   ],
   "source": [
    "# 10. wap ask the user enter length and breadth calculate area of the rectangle\n",
    "\n",
    "b = random.randint(1,10)\n",
    "h = random.randint(1,10)\n",
    "\n",
    "final = ( b * h )\n",
    "\n",
    "print(f\"the are of rectangle with base {b} and height {h} is {final} \")"
   ]
  },
  {
   "cell_type": "code",
   "execution_count": 21,
   "id": "c7290640-a368-4535-b685-fbb9b6d6e296",
   "metadata": {},
   "outputs": [
    {
     "name": "stdin",
     "output_type": "stream",
     "text": [
      "Father: Hi Daughter\n",
      "Daughter:  Hi Papa\n",
      "Father:  What about your exams ?\n",
      "Daughter:  Yes Results are out\n",
      "Father:  whats the % ?\n",
      "Daughter:  I will  give you subject marks, you calculate % \n",
      "Father :  ok\n"
     ]
    },
    {
     "name": "stdout",
     "output_type": "stream",
     "text": [
      "Daughter: Dad Now tell me how much percentage I got\n",
      "Father: Tell me the max marks of each subject\n",
      "Father :Your 5 subject marks are 81 , 45 , 50 , 72, 48 and max marks of each subject is 100, So....\n",
      "Father: Your Percentage turns out to be 59.199999999999996%\n"
     ]
    }
   ],
   "source": [
    "# 11. Let’s create a story between Father and daughter , You need to create a story by using print and input keywords\n",
    "\n",
    "input(\"Father:\")\n",
    "time.sleep(2)\n",
    "input(\"Daughter: \")\n",
    "time.sleep(2)\n",
    "input(\"Father: \")\n",
    "time.sleep(2)\n",
    "input(\"Daughter: \")\n",
    "time.sleep(2)\n",
    "input(\"Father: \")\n",
    "time.sleep(2)\n",
    "input(\"Daughter: \")\n",
    "time.sleep(2)\n",
    "input(\"Father : \")\n",
    "time.sleep(2)\n",
    "\n",
    "S1 = random.randint(40,99)\n",
    "S2 = random.randint(40,99)\n",
    "S3 = random.randint(40,99)\n",
    "S4 = random.randint(40,99)\n",
    "S5 = random.randint(40,99)\n",
    "\n",
    "print(\"Daughter: Dad Now tell me how much percentage I got\")\n",
    "time.sleep(2)\n",
    "print(\"Father: Tell me the max marks of each subject\")\n",
    "\n",
    "max_marks = 100 #eval(input(\"enter the Max Marks\"))\n",
    "\n",
    "Percentage  = ((S1+S2+S3+S4+S5)/(5*max_marks)*100)\n",
    "print(f\"Father :Your 5 subject marks are {S1} , {S2} , {S3} , {S4}, {S5} and max marks of each subject is 100, So....\")\n",
    "time.sleep(4)\n",
    "print(f\"Father: Your Percentage turns out to be {Percentage}%\")\n"
   ]
  },
  {
   "cell_type": "code",
   "execution_count": null,
   "id": "7fa7a386-793e-4f6c-8722-21591e5a5e60",
   "metadata": {},
   "outputs": [],
   "source": []
  }
 ],
 "metadata": {
  "kernelspec": {
   "display_name": "Python 3 (ipykernel)",
   "language": "python",
   "name": "python3"
  },
  "language_info": {
   "codemirror_mode": {
    "name": "ipython",
    "version": 3
   },
   "file_extension": ".py",
   "mimetype": "text/x-python",
   "name": "python",
   "nbconvert_exporter": "python",
   "pygments_lexer": "ipython3",
   "version": "3.11.7"
  }
 },
 "nbformat": 4,
 "nbformat_minor": 5
}
