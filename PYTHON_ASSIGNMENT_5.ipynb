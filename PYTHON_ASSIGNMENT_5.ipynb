{
 "cells": [
  {
   "cell_type": "markdown",
   "id": "d011f481-f53d-489c-b662-fa7b6b254f88",
   "metadata": {},
   "source": [
    "# Without Arguments"
   ]
  },
  {
   "cell_type": "code",
   "execution_count": 83,
   "id": "8b136f07-4bcb-47cd-9abc-fe020484fae2",
   "metadata": {},
   "outputs": [
    {
     "name": "stdin",
     "output_type": "stream",
     "text": [
      "Enter Number 1 :  34\n"
     ]
    },
    {
     "name": "stdout",
     "output_type": "stream",
     "text": [
      "Number 1 :  34\n"
     ]
    },
    {
     "name": "stdin",
     "output_type": "stream",
     "text": [
      "Enter Number 2 :  34\n"
     ]
    },
    {
     "name": "stdout",
     "output_type": "stream",
     "text": [
      "Number 2 :  34\n"
     ]
    },
    {
     "name": "stdin",
     "output_type": "stream",
     "text": [
      "Enter Number 3 :  56\n"
     ]
    },
    {
     "name": "stdout",
     "output_type": "stream",
     "text": [
      "Number 3 :  56\n",
      "Average of 34 , 34 and 56 is : 41.3333\n"
     ]
    }
   ],
   "source": [
    "# wap ask the user enter 3 numbers calculate average\n",
    "#------------------------------------------------------------------------\n",
    "def Average3():\n",
    "    num1 = eval(input(\"Enter Number 1 : \"))\n",
    "    print(\"Number 1 : \",num1)\n",
    "    num2 = eval(input(\"Enter Number 2 : \"))\n",
    "    print(\"Number 2 : \",num2)\n",
    "    num3 = eval(input(\"Enter Number 3 : \"))\n",
    "    print(\"Number 3 : \",num3)\n",
    "\n",
    "\n",
    "    avg = round((num1+num2+num3)/3,4)\n",
    "    print(f\"Average of {num1} , {num2} and {num3} is : {avg}\")\n",
    "\n",
    "Average3()"
   ]
  },
  {
   "cell_type": "code",
   "execution_count": 5,
   "id": "bfe659ef-27c3-4166-aa68-1816c28cb2cd",
   "metadata": {},
   "outputs": [
    {
     "name": "stdin",
     "output_type": "stream",
     "text": [
      "Enter Radius:  34\n"
     ]
    },
    {
     "name": "stdout",
     "output_type": "stream",
     "text": [
      "Radius is :  34\n",
      "Area of Circle with Radius 34 is : 3629.84\n"
     ]
    }
   ],
   "source": [
    "# wap ask the uer enter radius values find the area of the circle\n",
    "#-------------------------------------------------------------------------\n",
    "def AreaCicle():\n",
    "    rad = eval(input(\"Enter Radius: \"))\n",
    "    print(\"Radius is : \",rad)\n",
    "\n",
    "    area = round((rad*rad*3.14),4)\n",
    "    print(f\"Area of Circle with Radius {rad} is : {area}\")\n",
    "\n",
    "AreaCicle()"
   ]
  },
  {
   "cell_type": "code",
   "execution_count": 7,
   "id": "f5d0ada4-bb0a-4606-9f98-25cb58a35abd",
   "metadata": {},
   "outputs": [
    {
     "name": "stdin",
     "output_type": "stream",
     "text": [
      "Enter Bill Value:  100\n"
     ]
    },
    {
     "name": "stdout",
     "output_type": "stream",
     "text": [
      "Bill Value is :  100\n"
     ]
    },
    {
     "name": "stdin",
     "output_type": "stream",
     "text": [
      "Enter Tip in %:  9\n"
     ]
    },
    {
     "name": "stdout",
     "output_type": "stream",
     "text": [
      "Tip in % is :  9\n",
      "Total Amount with Bill Value is 100 with Tip % is 9 is : 109.0\n"
     ]
    }
   ],
   "source": [
    "# wap ask the user bill amount,\n",
    "#     ask the user how much tip you want pay in percentage\n",
    "#     calculate totalbill\n",
    "#-----------------------------------------------------------------------------\n",
    "def BillNTip():\n",
    "    B = eval(input(\"Enter Bill Value: \"))\n",
    "    print(\"Bill Value is : \",B)\n",
    "    T = eval(input(\"Enter Tip in %: \"))\n",
    "    print(\"Tip in % is : \",T)\n",
    "\n",
    "    FB = round((B + (B * (T/100)) ),4)\n",
    "    print(f\"Total Amount with Bill Value is {B} with Tip % is {T} is : {FB}\")\n",
    "\n",
    "BillNTip()\n"
   ]
  },
  {
   "cell_type": "code",
   "execution_count": 9,
   "id": "76c3b09b-c58b-4137-9eee-69877748f99b",
   "metadata": {},
   "outputs": [
    {
     "name": "stdin",
     "output_type": "stream",
     "text": [
      "Enter Base:  10\n"
     ]
    },
    {
     "name": "stdout",
     "output_type": "stream",
     "text": [
      "Base is :  10\n"
     ]
    },
    {
     "name": "stdin",
     "output_type": "stream",
     "text": [
      "Enter Height:  20\n"
     ]
    },
    {
     "name": "stdout",
     "output_type": "stream",
     "text": [
      "Height is :  20\n",
      "Area of Triangle with Base 10 and Height 20 is : 100.0\n"
     ]
    }
   ],
   "source": [
    "#wap ask the user enter base height calculate area of the traingle\n",
    "#-------------------------------------------------------------------------------\n",
    "def AreaT():\n",
    "    B = eval(input(\"Enter Base: \"))\n",
    "    print(\"Base is : \",B)\n",
    "    H = eval(input(\"Enter Height: \"))\n",
    "    print(\"Height is : \",H)\n",
    "\n",
    "    area = round((0.5*B*H),4)\n",
    "    print(f\"Area of Triangle with Base {B} and Height {H} is : {area}\")\n",
    "\n",
    "AreaT()\n"
   ]
  },
  {
   "cell_type": "code",
   "execution_count": 11,
   "id": "89ed97ae-ac84-4c42-8402-05af7941175e",
   "metadata": {},
   "outputs": [
    {
     "name": "stdin",
     "output_type": "stream",
     "text": [
      "Enter Base :  23\n",
      "Enter Height :  33\n"
     ]
    },
    {
     "name": "stdout",
     "output_type": "stream",
     "text": [
      "The area of Rectangle with Base 23 and Height 33 is : 759\n"
     ]
    }
   ],
   "source": [
    "#wap ask the user enter length and breadth calculate area of the rectangle\n",
    "\n",
    "def AreaR():\n",
    "    B = eval(input(\"Enter Base : \"))\n",
    "    H = eval(input(\"Enter Height : \"))\n",
    "\n",
    "    area = (B*H)\n",
    "    print(f\"The area of Rectangle with Base {B} and Height {H} is : {area}\")\n",
    "\n",
    "AreaR()"
   ]
  },
  {
   "cell_type": "code",
   "execution_count": 13,
   "id": "2f8723a0-bb2b-4cbc-95d0-ad98fe92559e",
   "metadata": {},
   "outputs": [
    {
     "name": "stdin",
     "output_type": "stream",
     "text": [
      "Enter Number :  45\n"
     ]
    },
    {
     "name": "stdout",
     "output_type": "stream",
     "text": [
      "The Number 45 is odd\n"
     ]
    }
   ],
   "source": [
    "#------------------------------------------------------------------------------------\n",
    "## wap ask the user enter a number\n",
    "# find it is a even number or odd number\n",
    "\n",
    "def oddeven():\n",
    "    N = eval(input(\"Enter Number : \"))\n",
    "\n",
    "    if N%2 == 0:\n",
    "        print(f\"The Number {N} is Even\")\n",
    "    else:\n",
    "        print(f\"The Number {N} is odd\")\n",
    "\n",
    "oddeven()\n"
   ]
  },
  {
   "cell_type": "code",
   "execution_count": 15,
   "id": "eaa19252-2be7-4ac5-a52a-43e0c92003d2",
   "metadata": {},
   "outputs": [
    {
     "name": "stdin",
     "output_type": "stream",
     "text": [
      "Enter the distance :  345\n"
     ]
    },
    {
     "name": "stdout",
     "output_type": "stream",
     "text": [
      "The Total Fare is : 1725\n"
     ]
    }
   ],
   "source": [
    "#------------------------------------------------------------------------------------------\n",
    "## wap ask the user enter the distance\n",
    "# if distance greater than 25km\n",
    "#      then enter the charge\n",
    "#      print the total cost\n",
    "#otherwise\n",
    "#      print free ride\n",
    "\n",
    "def fare():\n",
    "\n",
    "    D = eval(input(\"Enter the distance : \"))\n",
    "    if D>25 : \n",
    "        TotalCost = (5*D)\n",
    "        print(f\"The Total Fare is : {TotalCost}\")\n",
    "    else:\n",
    "        print(f\"Free Ride\")\n",
    "fare()    \n"
   ]
  },
  {
   "cell_type": "markdown",
   "id": "66b1c453-83a0-43b2-9ce8-3a523401e63a",
   "metadata": {},
   "source": [
    "# Implement the above problem by taking a random input  between  1, 100"
   ]
  },
  {
   "cell_type": "code",
   "execution_count": 17,
   "id": "646b7228-777f-4fea-a6fa-74e1e4f2e135",
   "metadata": {},
   "outputs": [
    {
     "name": "stdout",
     "output_type": "stream",
     "text": [
      "Diatnce taken randomly is : 21\n",
      "Free Ride\n"
     ]
    }
   ],
   "source": [
    "# wap ask the user enter the distance\n",
    "# if distance greater than 25km\n",
    "#      then enter the charge\n",
    "#      print the total cost\n",
    "#otherwise\n",
    "#      print free ride\n",
    "import random\n",
    "def fare():\n",
    "\n",
    "    D = random.randint(1,100)\n",
    "    print(f\"Diatnce taken randomly is : {D}\")\n",
    "    if D>25 : \n",
    "        TotalCost = (5*D)\n",
    "        print(f\"The Total Fare is : {TotalCost}\")\n",
    "    else:\n",
    "        print(f\"Free Ride\")\n",
    "fare()   \n",
    "\n"
   ]
  },
  {
   "cell_type": "code",
   "execution_count": 20,
   "id": "db12bbb6-ba06-4fe3-88ab-2bbb67cdc30d",
   "metadata": {},
   "outputs": [
    {
     "name": "stdout",
     "output_type": "stream",
     "text": [
      "Diatnce taken randomly is : 97\n",
      "good news your charge is aplicable for only after 25km\n",
      "Charge taken randomly is : 10\n",
      "The Total Fare is : 720\n"
     ]
    }
   ],
   "source": [
    "# wap ask the user enter the distance\n",
    "# cutoff distance enter 25\n",
    "# if distance greater than 25km\n",
    "#      print(\"good news your charge is aplicable for only remaining of 25\")\n",
    "#      chargeble distance= distance-cutoff\n",
    "#      then enter the charge\n",
    "#      print the total cost\n",
    "#otherwise\n",
    "#      print free ride\n",
    "\n",
    "def fare():\n",
    "\n",
    "    D = random.randint(1,100)\n",
    "    print(f\"Diatnce taken randomly is : {D}\")\n",
    "    if D>25 : \n",
    "        print(\"good news your charge is aplicable for only after 25km\")\n",
    "        FD = D-25\n",
    "        C = random.randint(1,10)\n",
    "        print(f\"Charge taken randomly is : {C}\")\n",
    "        TotalCost = (C*FD)\n",
    "        print(f\"The Total Fare is : {TotalCost}\")\n",
    "    else:\n",
    "        print(f\"Free Ride\")\n",
    "fare() "
   ]
  },
  {
   "cell_type": "code",
   "execution_count": 23,
   "id": "7f4de5ab-691c-494b-aa4f-b284b6ef98b1",
   "metadata": {},
   "outputs": [
    {
     "name": "stdin",
     "output_type": "stream",
     "text": [
      "Enter the Course DATA SCIENCE\n",
      "Enter the Institute XYZ\n"
     ]
    },
    {
     "name": "stdout",
     "output_type": "stream",
     "text": [
      "you are Bad\n"
     ]
    }
   ],
   "source": [
    "# wap ask the user enter the course\n",
    "# ask the user enter the Institute\n",
    "# if the course equal to data science and institute equal to naresh it\n",
    "#     then you are good\n",
    "# otherwise\n",
    "#     you are bad\n",
    "\n",
    "def career():\n",
    "    C = input(\"Enter the Course\").upper()\n",
    "    if C == 'DATA SCIENCE':\n",
    "        I = input(\"Enter the Institute\").upper()\n",
    "        if I == 'NARESH IT':\n",
    "            print('you are good')\n",
    "        else :\n",
    "            print('you are Bad')\n",
    "    else:\n",
    "        print('you are Bad')\n",
    "career()        "
   ]
  },
  {
   "cell_type": "code",
   "execution_count": 58,
   "id": "8c142bad-6a0c-4ad8-85df-90c9bf182d2a",
   "metadata": {},
   "outputs": [
    {
     "name": "stdin",
     "output_type": "stream",
     "text": [
      "Enter your Number from 1 to 10 :  5\n"
     ]
    },
    {
     "name": "stdout",
     "output_type": "stream",
     "text": [
      "The Random selected number is :  3\n",
      "You lost\n"
     ]
    }
   ],
   "source": [
    "# wap ask the user enter a random number between 1 to 10, treat this as number1\n",
    "# ask the user enter another number from keyboard, treat this as number2\n",
    "# if number1 equal to number2\n",
    "#     print you won\n",
    "# otherwise\n",
    "#     print you lost\n",
    "\n",
    "def dice():\n",
    "    N1 = eval(input(\"Enter your Number from 1 to 10 : \"))\n",
    "    N2 = random.randint(1,10)\n",
    "    print(\"The Random selected number is : \",N2)\n",
    "    if N1 == N2:\n",
    "        print(\"you Won\")\n",
    "    else :\n",
    "        print(\"You lost\")\n",
    "dice()\n"
   ]
  },
  {
   "cell_type": "code",
   "execution_count": 61,
   "id": "24181185-851a-48d0-9e31-7a4fa19383c3",
   "metadata": {},
   "outputs": [
    {
     "name": "stdout",
     "output_type": "stream",
     "text": [
      "Three\n"
     ]
    }
   ],
   "source": [
    "# wap ask the user enter number\n",
    "# if number equal to 1 then print one\n",
    "# if number equal to 2 then print two\n",
    "# if number equal to 3 then print three\n",
    "# otherwise  print enter a valid number\n",
    "\n",
    "def Number():\n",
    "    N = random.randint(1,5)\n",
    "    if N == 1 :\n",
    "        print(\"One\")\n",
    "    elif N==2 :\n",
    "        print(\"Two\")\n",
    "    elif N==3 :\n",
    "        print(\"Three\")\n",
    "    else:\n",
    "        print(\"enter a valid number\")\n",
    "Number()\n"
   ]
  },
  {
   "cell_type": "code",
   "execution_count": 71,
   "id": "7473808a-58a8-4840-8655-715d82cb76ff",
   "metadata": {},
   "outputs": [
    {
     "name": "stdout",
     "output_type": "stream",
     "text": [
      "Random Selected Number is :  -33\n",
      "Negative\n"
     ]
    }
   ],
   "source": [
    "# wap ask the user enter a number\n",
    "# if that number greater than zero print postive\n",
    "# if that number less than zero print negative\n",
    "# otherwise print zero\n",
    "\n",
    "def Number():\n",
    "    Num =  random.randint(-100,500)\n",
    "    print(\"Random Selected Number is : \",Num)\n",
    "    if Num>0:\n",
    "        if  Num==0:\n",
    "            print(\"Zero\")\n",
    "        else:\n",
    "            print(\"Positive\")\n",
    "    else:\n",
    "        print(\"Negative\")\n",
    "Number()\n"
   ]
  },
  {
   "cell_type": "code",
   "execution_count": 79,
   "id": "b60109ea-6cb9-4208-9a2b-37fadf0e8913",
   "metadata": {},
   "outputs": [
    {
     "name": "stdout",
     "output_type": "stream",
     "text": [
      "Randomly Selected Number :  98\n",
      "A Grade\n"
     ]
    }
   ],
   "source": [
    "# WAP ask the user enter the percentage of marks 0 to 100\n",
    "# if percentagw gretaer than 90  print A garde\n",
    "# if percentage between 75 to 90 print B garde\n",
    "# if percentage between 50 to 75 print C grade\n",
    "# if percentage between 35 to 50 print D grade5\n",
    "# if percentage less than 35 print Fail\n",
    "\n",
    "def Percentage():\n",
    "    \n",
    "    N = random.randint(1,100)\n",
    "    print(\"Randomly Selected Number : \",N)\n",
    "    if N>=90:\n",
    "        print(\"A Grade\")\n",
    "    elif N>=75:\n",
    "        print(\"B Grade\")\n",
    "    elif N>=50:\n",
    "        print(\"C Grade\")\n",
    "    elif N>=35:\n",
    "        print(\"D Grade\")\n",
    "    else:\n",
    "        print(\"Fail\")\n",
    "Percentage()\n"
   ]
  },
  {
   "cell_type": "code",
   "execution_count": 81,
   "id": "867ebda4-95d4-47f2-b750-424bc5bd1a9b",
   "metadata": {},
   "outputs": [
    {
     "name": "stdout",
     "output_type": "stream",
     "text": [
      "Randomly Selected Age :  68\n",
      "SS\n"
     ]
    }
   ],
   "source": [
    "# WAP ask the user enter the age\n",
    "# if the age greater tahn 100 print you are lucky\n",
    "# if the age gretaer than 75 print old age\n",
    "# if the age  between 50 to 75 print ss\n",
    "# if the age between  30 tp 50 print MA\n",
    "# if the age between  15 to 30 print young age\n",
    "# if the afe between less than 15 print kid\n",
    "\n",
    "def Age():\n",
    "    \n",
    "    N = random.randint(1,100)\n",
    "    print(\"Randomly Selected Age : \",N)\n",
    "    if N>=100:\n",
    "        print(\"lucky\")\n",
    "    elif N>=75:\n",
    "        print(\"old age\")\n",
    "    elif N>=50:\n",
    "        print(\"SS\")\n",
    "    elif N>=30:\n",
    "        print(\"MA\")\n",
    "    elif N>=15:\n",
    "        print(\"young age\")\n",
    "    else:\n",
    "        print(\"Kid\")\n",
    "Age()"
   ]
  },
  {
   "cell_type": "markdown",
   "id": "37fc3689-7ada-4900-a38f-11d41a2ae4be",
   "metadata": {},
   "source": [
    "# With Arguments"
   ]
  },
  {
   "cell_type": "code",
   "execution_count": 82,
   "id": "ef278571-c391-42e4-a7a0-248609e74781",
   "metadata": {},
   "outputs": [
    {
     "name": "stdout",
     "output_type": "stream",
     "text": [
      "Number 1 :  1\n",
      "Number 2 :  1\n",
      "Number 4 :  1\n",
      "Average of 1 , 2 and 3 is : 2.0\n"
     ]
    }
   ],
   "source": [
    "# wap ask the user enter 3 numbers calculate average\n",
    "#------------------------------------------------------------------------\n",
    "def Average3(num1,num2,num3):\n",
    "    # num1 = eval(input(\"Enter Number 1 : \"))\n",
    "    print(\"Number 1 : \",num1)\n",
    "    # num2 = eval(input(\"Enter Number 2 : \"))\n",
    "    print(\"Number 2 : \",num2)\n",
    "    # num3 = eval(input(\"Enter Number 3 : \"))\n",
    "    print(\"Number 4 : \",num3)\n",
    "\n",
    "\n",
    "    avg = round((num1+num2+num3)/3,4)\n",
    "    print(f\"Average of {num1} , {num2} and {num3} is : {avg}\")\n",
    "\n",
    "Average3(1,2,3)"
   ]
  },
  {
   "cell_type": "code",
   "execution_count": 84,
   "id": "ec044dc4-4c0e-40db-8c9a-ea28b69571ff",
   "metadata": {},
   "outputs": [
    {
     "name": "stdout",
     "output_type": "stream",
     "text": [
      "Radius is :  34\n",
      "Area of Circle with Radius 34 is : 3629.84\n"
     ]
    }
   ],
   "source": [
    "# wap ask the uer enter radius values find the area of the circle\n",
    "#-------------------------------------------------------------------------\n",
    "def AreaCicle(rad):\n",
    "    # rad = eval(input(\"Enter Radius: \"))\n",
    "    print(\"Radius is : \",rad)\n",
    "\n",
    "    area = round((rad*rad*3.14),4)\n",
    "    print(f\"Area of Circle with Radius {rad} is : {area}\")\n",
    "\n",
    "AreaCicle(34)"
   ]
  },
  {
   "cell_type": "code",
   "execution_count": 85,
   "id": "d1b7f53d-dc61-42a5-89fc-ae0821b12056",
   "metadata": {},
   "outputs": [
    {
     "name": "stdout",
     "output_type": "stream",
     "text": [
      "Bill Value is :  1000\n",
      "Tip in % is :  12\n",
      "Total Amount with Bill Value is 1000 with Tip % is 12 is : 1120.0\n"
     ]
    }
   ],
   "source": [
    "# wap ask the user bill amount,\n",
    "#     ask the user how much tip you want pay in percentage\n",
    "#     calculate totalbill\n",
    "#-----------------------------------------------------------------------------\n",
    "def BillNTip(B,T):\n",
    "    #B = eval(input(\"Enter Bill Value: \"))\n",
    "    print(\"Bill Value is : \",B)\n",
    "    #T = eval(input(\"Enter Tip in %: \"))\n",
    "    print(\"Tip in % is : \",T)\n",
    "\n",
    "    FB = round((B + (B * (T/100)) ),4)\n",
    "    print(f\"Total Amount with Bill Value is {B} with Tip % is {T} is : {FB}\")\n",
    "\n",
    "BillNTip(1000,12)"
   ]
  },
  {
   "cell_type": "code",
   "execution_count": 86,
   "id": "b5244a35-be76-49cf-80fe-8c8e252ff2d5",
   "metadata": {},
   "outputs": [
    {
     "name": "stdout",
     "output_type": "stream",
     "text": [
      "Base is :  10\n",
      "Height is :  20\n",
      "Area of Triangle with Base 10 and Height 20 is : 100.0\n"
     ]
    }
   ],
   "source": [
    "#wap ask the user enter base height calculate area of the traingle\n",
    "#-------------------------------------------------------------------------------\n",
    "def AreaT(B,H):\n",
    "    #B = eval(input(\"Enter Base: \"))\n",
    "    print(\"Base is : \",B)\n",
    "    #H = eval(input(\"Enter Height: \"))\n",
    "    print(\"Height is : \",H)\n",
    "\n",
    "    area = round((0.5*B*H),4)\n",
    "    print(f\"Area of Triangle with Base {B} and Height {H} is : {area}\")\n",
    "\n",
    "AreaT(10,20)"
   ]
  },
  {
   "cell_type": "code",
   "execution_count": 87,
   "id": "0263f166-f627-43bb-9f5c-73bbc8679d0d",
   "metadata": {},
   "outputs": [
    {
     "name": "stdout",
     "output_type": "stream",
     "text": [
      "The area of Rectangle with Base 10 and Height 29 is : 290\n"
     ]
    }
   ],
   "source": [
    "#wap ask the user enter length and breadth calculate area of the rectangle\n",
    "\n",
    "def AreaR(B,H):\n",
    "    #B = eval(input(\"Enter Base : \"))\n",
    "    #H = eval(input(\"Enter Height : \"))\n",
    "\n",
    "    area = (B*H)\n",
    "    print(f\"The area of Rectangle with Base {B} and Height {H} is : {area}\")\n",
    "\n",
    "AreaR(10,29)"
   ]
  },
  {
   "cell_type": "code",
   "execution_count": 88,
   "id": "6f1c80d7-be62-438c-ac1c-2b80b54ab78a",
   "metadata": {},
   "outputs": [
    {
     "name": "stdout",
     "output_type": "stream",
     "text": [
      "The Number 23 is odd\n"
     ]
    }
   ],
   "source": [
    "#------------------------------------------------------------------------------------\n",
    "## wap ask the user enter a number\n",
    "# find it is a even number or odd number\n",
    "\n",
    "def oddeven(N):\n",
    "    #N = eval(input(\"Enter Number : \"))\n",
    "\n",
    "    if N%2 == 0:\n",
    "        print(f\"The Number {N} is Even\")\n",
    "    else:\n",
    "        print(f\"The Number {N} is odd\")\n",
    "\n",
    "oddeven(23)"
   ]
  },
  {
   "cell_type": "code",
   "execution_count": 89,
   "id": "f5e98079-2c1b-49e4-895f-d643cfbf03d7",
   "metadata": {},
   "outputs": [
    {
     "name": "stdout",
     "output_type": "stream",
     "text": [
      "The Total Fare is : 1725\n"
     ]
    }
   ],
   "source": [
    "#------------------------------------------------------------------------------------------\n",
    "## wap ask the user enter the distance\n",
    "# if distance greater than 25km\n",
    "#      then enter the charge\n",
    "#      print the total cost\n",
    "#otherwise\n",
    "#      print free ride\n",
    "\n",
    "def fare(D):\n",
    "\n",
    "    #D = eval(input(\"Enter the distance : \"))\n",
    "    if D>25 : \n",
    "        TotalCost = (5*D)\n",
    "        print(f\"The Total Fare is : {TotalCost}\")\n",
    "    else:\n",
    "        print(f\"Free Ride\")\n",
    "fare(345)    \n"
   ]
  },
  {
   "cell_type": "code",
   "execution_count": 93,
   "id": "19c0e80b-ef46-44bb-8a1e-8cbc41373027",
   "metadata": {},
   "outputs": [
    {
     "name": "stdout",
     "output_type": "stream",
     "text": [
      "Diatnce taken randomly is : 234\n",
      "good news your charge is aplicable for only after 25km\n",
      "Charge taken randomly is : 7\n",
      "The Total Fare is : 1463\n"
     ]
    }
   ],
   "source": [
    "# wap ask the user enter the distance\n",
    "# cutoff distance enter 25\n",
    "# if distance greater than 25km\n",
    "#      print(\"good news your charge is aplicable for only remaining of 25\")\n",
    "#      chargeble distance= distance-cutoff\n",
    "#      then enter the charge\n",
    "#      print the total cost\n",
    "#otherwise\n",
    "#      print free ride\n",
    "\n",
    "def fare(D,C):\n",
    "\n",
    "    #D = random.randint(1,100)\n",
    "    print(f\"Diatnce taken randomly is : {D}\")\n",
    "    if D>25 : \n",
    "        print(\"good news your charge is aplicable for only after 25km\")\n",
    "        FD = D-25\n",
    "        #C = random.randint(1,10)\n",
    "        print(f\"Charge taken randomly is : {C}\")\n",
    "        TotalCost = (C*FD)\n",
    "        print(f\"The Total Fare is : {TotalCost}\")\n",
    "    else:\n",
    "        print(f\"Free Ride\")\n",
    "fare(234,7) "
   ]
  },
  {
   "cell_type": "code",
   "execution_count": 94,
   "id": "ac6ac93c-798c-4d40-9a9a-744ae3df0422",
   "metadata": {},
   "outputs": [
    {
     "name": "stdout",
     "output_type": "stream",
     "text": [
      "you are good\n"
     ]
    }
   ],
   "source": [
    "# wap ask the user enter the course\n",
    "# ask the user enter the Institute\n",
    "# if the course equal to data science and institute equal to naresh it\n",
    "#     then you are good\n",
    "# otherwise\n",
    "#     you are bad\n",
    "\n",
    "def career(C,I):\n",
    "    #C = input(\"Enter the Course\").upper()\n",
    "    if C == 'DATA SCIENCE':\n",
    "        #I = input(\"Enter the Institute\").upper()\n",
    "        if I == 'NARESH IT':\n",
    "            print('you are good')\n",
    "        else :\n",
    "            print('you are Bad')\n",
    "    else:\n",
    "        print('you are Bad')\n",
    "career('DATA SCIENCE' , 'NARESH IT')   "
   ]
  },
  {
   "cell_type": "code",
   "execution_count": 95,
   "id": "c4765308-4263-4f5a-8d2f-e9bd9a1f951f",
   "metadata": {},
   "outputs": [
    {
     "name": "stdout",
     "output_type": "stream",
     "text": [
      "The Random selected number is :  5\n",
      "You lost\n"
     ]
    }
   ],
   "source": [
    "# wap ask the user enter a random number between 1 to 10, treat this as number1\n",
    "# ask the user enter another number from keyboard, treat this as number2\n",
    "# if number1 equal to number2\n",
    "#     print you won\n",
    "# otherwise\n",
    "#     print you lost\n",
    "\n",
    "def dice(N1):\n",
    "    #N1 = eval(input(\"Enter your Number from 1 to 10 : \"))\n",
    "    N2 = random.randint(1,10)\n",
    "    print(\"The Random selected number is : \",N2)\n",
    "    if N1 == N2:\n",
    "        print(\"you Won\")\n",
    "    else :\n",
    "        print(\"You lost\")\n",
    "dice(3)"
   ]
  },
  {
   "cell_type": "code",
   "execution_count": 96,
   "id": "6dbdc2e7-dd7b-4392-9594-6b54a32ed822",
   "metadata": {},
   "outputs": [
    {
     "name": "stdout",
     "output_type": "stream",
     "text": [
      "One\n"
     ]
    }
   ],
   "source": [
    "# wap ask the user enter number\n",
    "# if number equal to 1 then print one\n",
    "# if number equal to 2 then print two\n",
    "# if number equal to 3 then print three\n",
    "# otherwise  print enter a valid number\n",
    "\n",
    "def Number(N):\n",
    "   # N = random.randint(1,5)\n",
    "    if N == 1 :\n",
    "        print(\"One\")\n",
    "    elif N==2 :\n",
    "        print(\"Two\")\n",
    "    elif N==3 :\n",
    "        print(\"Three\")\n",
    "    else:\n",
    "        print(\"enter a valid number\")\n",
    "Number(1)"
   ]
  },
  {
   "cell_type": "code",
   "execution_count": 97,
   "id": "64f23f15-3f00-4347-972c-9fd45290c000",
   "metadata": {},
   "outputs": [
    {
     "name": "stdout",
     "output_type": "stream",
     "text": [
      "Randomly Selected Number :  99\n",
      "A Grade\n"
     ]
    }
   ],
   "source": [
    "# WAP ask the user enter the percentage of marks 0 to 100\n",
    "# if percentagw gretaer than 90  print A garde\n",
    "# if percentage between 75 to 90 print B garde\n",
    "# if percentage between 50 to 75 print C grade\n",
    "# if percentage between 35 to 50 print D grade5\n",
    "# if percentage less than 35 print Fail\n",
    "\n",
    "def Percentage(N):\n",
    "    \n",
    "    #N = random.randint(1,100)\n",
    "    print(\"Randomly Selected Number : \",N)\n",
    "    if N>=90:\n",
    "        print(\"A Grade\")\n",
    "    elif N>=75:\n",
    "        print(\"B Grade\")\n",
    "    elif N>=50:\n",
    "        print(\"C Grade\")\n",
    "    elif N>=35:\n",
    "        print(\"D Grade\")\n",
    "    else:\n",
    "        print(\"Fail\")\n",
    "Percentage(99)"
   ]
  },
  {
   "cell_type": "code",
   "execution_count": 98,
   "id": "e7e1de99-31d7-41c0-aedc-9e92d809dc97",
   "metadata": {},
   "outputs": [
    {
     "name": "stdout",
     "output_type": "stream",
     "text": [
      "Randomly Selected Age :  33\n",
      "MA\n"
     ]
    }
   ],
   "source": [
    "# WAP ask the user enter the age\n",
    "# if the age greater tahn 100 print you are lucky\n",
    "# if the age gretaer than 75 print old age\n",
    "# if the age  between 50 to 75 print ss\n",
    "# if the age between  30 tp 50 print MA\n",
    "# if the age between  15 to 30 print young age\n",
    "# if the afe between less than 15 print kid\n",
    "\n",
    "def Age(N):\n",
    "    \n",
    "   # N = random.randint(1,100)\n",
    "    print(\"Randomly Selected Age : \",N)\n",
    "    if N>=100:\n",
    "        print(\"lucky\")\n",
    "    elif N>=75:\n",
    "        print(\"old age\")\n",
    "    elif N>=50:\n",
    "        print(\"SS\")\n",
    "    elif N>=30:\n",
    "        print(\"MA\")\n",
    "    elif N>=15:\n",
    "        print(\"young age\")\n",
    "    else:\n",
    "        print(\"Kid\")\n",
    "Age(33)"
   ]
  },
  {
   "cell_type": "code",
   "execution_count": null,
   "id": "d4821923-1905-4923-81ab-da2697e9c68b",
   "metadata": {},
   "outputs": [],
   "source": []
  }
 ],
 "metadata": {
  "kernelspec": {
   "display_name": "Python 3 (ipykernel)",
   "language": "python",
   "name": "python3"
  },
  "language_info": {
   "codemirror_mode": {
    "name": "ipython",
    "version": 3
   },
   "file_extension": ".py",
   "mimetype": "text/x-python",
   "name": "python",
   "nbconvert_exporter": "python",
   "pygments_lexer": "ipython3",
   "version": "3.11.7"
  }
 },
 "nbformat": 4,
 "nbformat_minor": 5
}
