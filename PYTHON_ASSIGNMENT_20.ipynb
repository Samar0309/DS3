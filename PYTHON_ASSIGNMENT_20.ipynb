{
 "cells": [
  {
   "cell_type": "code",
   "execution_count": null,
   "id": "c56e86b6-fe77-4c33-8bdb-ac9ca8e84346",
   "metadata": {},
   "outputs": [],
   "source": [
    "# Q5 from above output -  you need to extract all the emails\n",
    "\n",
    "# Q6 unique emails\n",
    "\n",
    "# Q7 you need to read the text file"
   ]
  },
  {
   "cell_type": "code",
   "execution_count": 140,
   "id": "38f23454-faf2-49eb-a3e3-5eb7ed68c4e3",
   "metadata": {},
   "outputs": [
    {
     "data": {
      "text/plain": [
       "{'antranig@caret.cam.ac.uk',\n",
       " 'cwen@iupui.edu',\n",
       " 'david.horwitz@uct.ac.za',\n",
       " 'gopal.ramasammycook@gmail.com',\n",
       " 'gsilver@umich.edu',\n",
       " 'louis@media.berkeley.edu',\n",
       " 'ray@media.berkeley.edu',\n",
       " 'rjlowe@iupui.edu',\n",
       " 'stephen.marquard@uct.ac.za',\n",
       " 'wagnermr@iupui.edu',\n",
       " 'zqian@umich.edu'}"
      ]
     },
     "execution_count": 140,
     "metadata": {},
     "output_type": "execute_result"
    }
   ],
   "source": [
    "# Q5 from above output -  you need to extract all the emails\n",
    "\n",
    "# Q6 unique emails \n",
    "\n",
    "import os\n",
    "path = 'mbox-short.txt'\n",
    "file = open(path)\n",
    "emailonly = [i.rstrip('\\n') for i in file if i.startswith('From')]\n",
    "list=[]\n",
    "for i in emailonly:\n",
    "    # print(i)\n",
    "    i1=i.find(' ') + 1\n",
    "    i2=i.find(' ',i1)\n",
    "    # print(i2)\n",
    "    if i2 == -1: \n",
    "        i2 = len(i)\n",
    "    # print(f'i1 = {i1} and i2 = {i2}')\n",
    "    ans = i[i1:i2]\n",
    "    # print(ans)  ----------------------------For Question No 5 \n",
    "    list.append(ans)\n",
    "\n",
    "list2=[]\n",
    "for i  in list:\n",
    "    list2.append(i.strip())\n",
    "\n",
    "set(list2)----------------------------For Question No 6\n",
    "\n",
    "\n",
    "    \n"
   ]
  },
  {
   "cell_type": "code",
   "execution_count": null,
   "id": "ffec7a54-81bf-4123-bce0-f5a6d235ec56",
   "metadata": {},
   "outputs": [],
   "source": [
    "# Q7 you need to read the text file\n",
    "import os\n",
    "path = 'emails.txt'\n",
    "file = open(path)\n",
    "for i in file:\n",
    "    d = i.split(';')\n",
    "d\n",
    "list1=[]\n",
    "for i in d:\n",
    "    fn = i.split(',')\n",
    "    ansfn = fn[0]\n",
    "    newdata = fn[1]\n",
    "    list1.append(ansfn)\n",
    "    list2.append(newdata)\n",
    "\n",
    "list3=[]\n",
    "list4=[]\n",
    "for i in list2:\n",
    "    sn = i.split('<')\n",
    "    anssn = sn[0]\n",
    "    newdata2 = sn[1]\n",
    "    list3.append(anssn)\n",
    "    list4.append(newdata2)\n",
    "\n",
    "list5 = []\n",
    "for i in list4:\n",
    "    email = (i.rstrip('>'))\n",
    "    a,b = (email.split('@'))\n",
    "    c= b.rstrip('.com')\n",
    "    list5.append(c)\n",
    "# list1 - First name\n",
    "# list3   - Second name\n",
    "list5"
   ]
  }
 ],
 "metadata": {
  "kernelspec": {
   "display_name": "Python 3 (ipykernel)",
   "language": "python",
   "name": "python3"
  },
  "language_info": {
   "codemirror_mode": {
    "name": "ipython",
    "version": 3
   },
   "file_extension": ".py",
   "mimetype": "text/x-python",
   "name": "python",
   "nbconvert_exporter": "python",
   "pygments_lexer": "ipython3",
   "version": "3.11.7"
  }
 },
 "nbformat": 4,
 "nbformat_minor": 5
}
